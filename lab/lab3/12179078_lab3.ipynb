{
 "cells": [
  {
   "cell_type": "markdown",
   "metadata": {
    "deletable": false,
    "editable": false,
    "nbgrader": {
     "cell_type": "markdown",
     "checksum": "29b72b5f8cb2ce33aa81c939b8d2138c",
     "grade": false,
     "grade_id": "cell-02487845739eb4fd",
     "locked": true,
     "schema_version": 3,
     "solution": false
    }
   },
   "source": [
    "### Lab 3: Expectation Maximization and Variational Autoencoder\n",
    "\n",
    "### Machine Learning 2 (2019)\n",
    "\n",
    "* The lab exercises can be done in groups of two people, or individually.\n",
    "* The deadline is Tuesday, October 15th at 17:00.\n",
    "* Assignment should be submitted through Canvas! Make sure to include your and your teammates' names with the submission.\n",
    "* Attach the .IPYNB (IPython Notebook) file containing your code and answers. Naming of the file should be \"studentid1\\_studentid2\\_lab#\", for example, the attached file should be \"12345\\_12346\\_lab1.ipynb\". Only use underscores (\"\\_\") to connect ids, otherwise the files cannot be parsed.\n",
    "\n",
    "Notes on implementation:\n",
    "\n",
    "* You should write your code and answers in an IPython Notebook: http://ipython.org/notebook.html. If you have problems, please ask.\n",
    "* Use __one cell__ for code and markdown answers only!\n",
    "    * Put all code in the cell with the ```# YOUR CODE HERE``` comment and overwrite the ```raise NotImplementedError()``` line.\n",
    "    * For theoretical questions, put your solution using LaTeX style formatting in the YOUR ANSWER HERE cell.\n",
    "* Among the first lines of your notebook should be \"%pylab inline\". This imports all required modules, and your plots will appear inline.\n",
    "* Large parts of you notebook will be graded automatically. Therefore it is important that your notebook can be run completely without errors and within a reasonable time limit. To test your notebook before submission, select Kernel -> Restart \\& Run All.\n",
    "$\\newcommand{\\bx}{\\mathbf{x}} \\newcommand{\\bpi}{\\mathbf{\\pi}} \\newcommand{\\bmu}{\\mathbf{\\mu}} \\newcommand{\\bX}{\\mathbf{X}} \\newcommand{\\bZ}{\\mathbf{Z}} \\newcommand{\\bz}{\\mathbf{z}}$"
   ]
  },
  {
   "cell_type": "markdown",
   "metadata": {
    "deletable": false,
    "editable": false,
    "nbgrader": {
     "cell_type": "markdown",
     "checksum": "e4e05229ee79b55d6589e1ea8de68f32",
     "grade": false,
     "grade_id": "cell-a0a6fdb7ca694bee",
     "locked": true,
     "schema_version": 3,
     "solution": false
    }
   },
   "source": [
    "### Installing PyTorch\n",
    "\n",
    "In this lab we will use PyTorch. PyTorch is an open source deep learning framework primarily developed by Facebook's artificial-intelligence research group. In order to install PyTorch in your conda environment go to https://pytorch.org and select your operating system, conda, Python 3.6, no cuda. Copy the text from the \"Run this command:\" box. Now open a terminal and activate your 'ml2labs' conda environment. Paste the text and run. After the installation is done you should restart Jupyter."
   ]
  },
  {
   "cell_type": "markdown",
   "metadata": {
    "deletable": false,
    "editable": false,
    "nbgrader": {
     "cell_type": "markdown",
     "checksum": "d9c3d77f550b5fd93b34fd18825c47f0",
     "grade": false,
     "grade_id": "cell-746cac8d9a21943b",
     "locked": true,
     "schema_version": 3,
     "solution": false
    }
   },
   "source": [
    "### MNIST data\n",
    "\n",
    "In this Lab we will use several methods for unsupervised learning on the MNIST dataset of written digits. The dataset contains digital images of handwritten numbers $0$ through $9$. Each image has 28x28 pixels that each take 256 values in a range from white ($= 0$) to  black ($=1$). The labels belonging to the images are also included. \n",
    "Fortunately, PyTorch comes with a MNIST data loader. The first time you run the box below it will download the MNIST data set. That can take a couple of minutes.\n",
    "The main data types in PyTorch are tensors. For Part 1, we will convert those tensors to numpy arrays. In Part 2, we will use the torch module to directly work with PyTorch tensors."
   ]
  },
  {
   "cell_type": "code",
   "execution_count": 1,
   "metadata": {
    "deletable": false,
    "editable": false,
    "nbgrader": {
     "cell_type": "code",
     "checksum": "4fbc152afa1255331d7b88bf00b7156c",
     "grade": false,
     "grade_id": "cell-7c995be0fda080c0",
     "locked": true,
     "schema_version": 3,
     "solution": false
    }
   },
   "outputs": [
    {
     "name": "stdout",
     "output_type": "stream",
     "text": [
      "Populating the interactive namespace from numpy and matplotlib\n",
      "Downloading http://yann.lecun.com/exdb/mnist/train-images-idx3-ubyte.gz\n",
      "Downloading http://yann.lecun.com/exdb/mnist/train-labels-idx1-ubyte.gz\n",
      "Downloading http://yann.lecun.com/exdb/mnist/t10k-images-idx3-ubyte.gz\n",
      "Downloading http://yann.lecun.com/exdb/mnist/t10k-labels-idx1-ubyte.gz\n",
      "Processing...\n",
      "Done!\n"
     ]
    }
   ],
   "source": [
    "%pylab inline\n",
    "import torch\n",
    "from torchvision import datasets, transforms\n",
    "\n",
    "train_dataset = datasets.MNIST('../data', train=True, download=True,\n",
    "                   transform=transforms.Compose([\n",
    "                       transforms.ToTensor(),\n",
    "                       transforms.Normalize((0.1307,), (0.3081,))\n",
    "                   ]))\n",
    "\n",
    "train_labels = train_dataset.train_labels.numpy()\n",
    "train_data = train_dataset.train_data.numpy()\n",
    "# For EM we will use flattened data\n",
    "train_data = train_data.reshape(train_data.shape[0], -1)\n"
   ]
  },
  {
   "cell_type": "markdown",
   "metadata": {
    "deletable": false,
    "editable": false,
    "nbgrader": {
     "cell_type": "markdown",
     "checksum": "4fc852f9bfb0bab10d4c23eada309e89",
     "grade": false,
     "grade_id": "cell-8b4a44df532b1867",
     "locked": true,
     "schema_version": 3,
     "solution": false
    }
   },
   "source": [
    "## Part 1: Expectation Maximization\n",
    "We will use the Expectation Maximization (EM) algorithm for the recognition of handwritten digits in the MNIST dataset. The images are modelled as a Bernoulli mixture model (see Bishop $\\S9.3.3$):\n",
    "$$\n",
    "p(\\bx|\\bmu, \\bpi) = \\sum_{k=1}^K  \\pi_k \\prod_{i=1}^D \\mu_{ki}^{x_i}(1-\\mu_{ki})^{(1-x_i)}\n",
    "$$\n",
    "where $x_i$ is the value of pixel $i$ in an image, $\\mu_{ki}$ represents the probability that pixel $i$ in class $k$ is black, and $\\{\\pi_1, \\ldots, \\pi_K\\}$ are the mixing coefficients of classes in the data. We want to use this data set to classify new images of handwritten numbers."
   ]
  },
  {
   "cell_type": "markdown",
   "metadata": {
    "deletable": false,
    "editable": false,
    "nbgrader": {
     "cell_type": "markdown",
     "checksum": "54064637b7e7cf938c0f778d748a226a",
     "grade": false,
     "grade_id": "cell-af03fef663aa85b2",
     "locked": true,
     "schema_version": 3,
     "solution": false
    }
   },
   "source": [
    "### 1.1 Binary data (5 points)\n",
    "As we like to apply our Bernoulli mixture model, write a function `binarize` to convert the (flattened) MNIST data to binary images, where each pixel $x_i \\in \\{0,1\\}$, by thresholding at an appropriate level."
   ]
  },
  {
   "cell_type": "code",
   "execution_count": 2,
   "metadata": {
    "deletable": false,
    "nbgrader": {
     "cell_type": "code",
     "checksum": "fe8607a4d734f7f26ef1ee1e54b33471",
     "grade": false,
     "grade_id": "cell-ec4365531ca57ef3",
     "locked": false,
     "schema_version": 3,
     "solution": true
    }
   },
   "outputs": [],
   "source": [
    "def binarize(X):\n",
    "    # YOUR CODE HERE\n",
    "    #raise NotImplementedError()\n",
    "    X = X/np.amax(X)\n",
    "    \n",
    "    X[X<0.5] = 0.\n",
    "    X[X>=0.5] = 1.\n",
    "    \n",
    "    \n",
    "    return X.astype(float)\n"
   ]
  },
  {
   "cell_type": "code",
   "execution_count": 3,
   "metadata": {
    "deletable": false,
    "editable": false,
    "nbgrader": {
     "cell_type": "code",
     "checksum": "231b2c9f29bc5c536c60cef4d74793a1",
     "grade": true,
     "grade_id": "cell-2f16f57cb68a83b3",
     "locked": true,
     "points": 5,
     "schema_version": 3,
     "solution": false
    }
   },
   "outputs": [],
   "source": [
    "# Test test test!\n",
    "bin_train_data = binarize(train_data)\n",
    "assert bin_train_data.dtype == np.float\n",
    "assert bin_train_data.shape == train_data.shape\n"
   ]
  },
  {
   "cell_type": "markdown",
   "metadata": {
    "deletable": false,
    "editable": false,
    "nbgrader": {
     "cell_type": "markdown",
     "checksum": "a0a39404cc2f67078b399ee34653a3ac",
     "grade": false,
     "grade_id": "cell-462e747685e8670f",
     "locked": true,
     "schema_version": 3,
     "solution": false
    }
   },
   "source": [
    "Sample a few images of digits $2$, $3$ and $4$; and show both the original and the binarized image together with their label."
   ]
  },
  {
   "cell_type": "code",
   "execution_count": 4,
   "metadata": {
    "deletable": false,
    "nbgrader": {
     "cell_type": "code",
     "checksum": "3f3c981f0fda5ba3bdfcefb9144305c7",
     "grade": true,
     "grade_id": "cell-784c6bd177a9aa42",
     "locked": false,
     "points": 5,
     "schema_version": 3,
     "solution": true
    }
   },
   "outputs": [
    {
     "data": {
      "image/png": "[encoded data removed]",
      "text/plain": [
       "<Figure size 432x288 with 6 Axes>"
      ]
     },
     "metadata": {},
     "output_type": "display_data"
    }
   ],
   "source": [
    "# YOUR CODE HERE\n",
    "#raise NotImplementedError()\n",
    "\n",
    "index2 = np.where(train_labels == 2)[0][0]\n",
    "index3 = np.where(train_labels == 3)[0][0]\n",
    "index4 = np.where(train_labels == 4)[0][0]\n",
    "\n",
    "f = plt.figure()\n",
    "f.add_subplot(2, 3, 1)\n",
    "plt.imshow(bin_train_data[index2].reshape(28, 28), cmap='Greys')\n",
    "plt.title('Binarized data')\n",
    "f.add_subplot(2, 3, 2) \n",
    "plt.imshow(bin_train_data[index3].reshape(28, 28), cmap='Greys')\n",
    "plt.title('Binarized data')\n",
    "f.add_subplot(2, 3, 3) \n",
    "plt.imshow(bin_train_data[index4].reshape(28, 28), cmap='Greys')\n",
    "plt.title('Binarized data')\n",
    "f.add_subplot(2, 3, 4) \n",
    "plt.imshow(train_data[index2].reshape(28, 28), cmap='Greys')\n",
    "plt.title('Original data')\n",
    "f.add_subplot(2, 3, 5) \n",
    "plt.imshow(train_data[index3].reshape(28, 28), cmap='Greys')\n",
    "plt.title('Original data')\n",
    "f.add_subplot(2, 3, 6) \n",
    "plt.imshow(train_data[index4].reshape(28, 28), cmap='Greys')\n",
    "plt.title('Original data');"
   ]
  },
  {
   "cell_type": "markdown",
   "metadata": {
    "deletable": false,
    "editable": false,
    "nbgrader": {
     "cell_type": "markdown",
     "checksum": "4b9da574d24193df76e96ed8ca62c7b0",
     "grade": false,
     "grade_id": "cell-56b33654497d4052",
     "locked": true,
     "schema_version": 3,
     "solution": false
    }
   },
   "source": [
    "### 1.2 Implementation (40 points)\n",
    "You are going to write a function ```EM(X, K, max_iter)``` that implements the EM algorithm on the Bernoulli mixture model. \n",
    "\n",
    "The only parameters the function has are:\n",
    "* ```X``` :: (NxD) array of input training images\n",
    "* ```K``` :: size of the latent space\n",
    "* ```max_iter``` :: maximum number of iterations, i.e. one E-step and one M-step\n",
    "\n",
    "You are free to specify your return statement.\n",
    "\n",
    "Make sure you use a sensible way of terminating the iteration process early to prevent unnecessarily running through all epochs. Vectorize computations using ```numpy``` as  much as possible.\n",
    "\n",
    "You should implement the `E_step(X, mu, pi)` and `M_step(X, gamma)` separately in the functions defined below. These you can then use in your function `EM(X, K, max_iter)`."
   ]
  },
  {
   "cell_type": "code",
   "execution_count": 126,
   "metadata": {
    "deletable": false,
    "nbgrader": {
     "cell_type": "code",
     "checksum": "316c9131692747c363b5db8e9091d362",
     "grade": false,
     "grade_id": "cell-882b13c117a73cc4",
     "locked": false,
     "schema_version": 3,
     "solution": true
    }
   },
   "outputs": [],
   "source": [
    "def E_step(X, mu, pi):\n",
    "    # YOUR CODE HERE\n",
    "    #raise NotImplementedError()\n",
    "    \n",
    "    gamma = []\n",
    "    N = X.shape[0]\n",
    "    for n in range(N):\n",
    "\n",
    "        gamma_  = np.power( mu, X[n]) * np.power(1 - mu, 1 - X[n])\n",
    "        gamma_  = np.prod(gamma_, axis = 1)\n",
    "        gamma_  = np.multiply(gamma_, pi)\n",
    "        gamma_ /= np.sum(gamma_)\n",
    "        \n",
    "        gamma.append(gamma_)\n",
    "                     \n",
    "    gamma = np.asarray(gamma)\n",
    "    \n",
    "    return gamma"
   ]
  },
  {
   "cell_type": "code",
   "execution_count": 127,
   "metadata": {
    "deletable": false,
    "editable": false,
    "nbgrader": {
     "cell_type": "code",
     "checksum": "1418f4014e98024fc97446ce27766c1d",
     "grade": true,
     "grade_id": "cell-f7c7dd52d82e2498",
     "locked": true,
     "points": 15,
     "schema_version": 3,
     "solution": false
    }
   },
   "outputs": [],
   "source": [
    "# Let's test on 5 datapoints\n",
    "n_test = 5\n",
    "X_test = bin_train_data[:n_test]\n",
    "D_test, K_test = X_test.shape[1], 10\n",
    "\n",
    "np.random.seed(2018)\n",
    "mu_test = np.random.uniform(low=.25, high=.75, size=(K_test,D_test))\n",
    "pi_test = np.ones(K_test) / K_test\n",
    "\n",
    "gamma_test = E_step(X_test, mu_test, pi_test)\n",
    "assert gamma_test.shape == (n_test, K_test)\n"
   ]
  },
  {
   "cell_type": "code",
   "execution_count": 128,
   "metadata": {
    "deletable": false,
    "nbgrader": {
     "cell_type": "code",
     "checksum": "2c426a613653174795cd9c8327ab6e20",
     "grade": false,
     "grade_id": "cell-f1b11b8765bd1ef6",
     "locked": false,
     "schema_version": 3,
     "solution": true
    }
   },
   "outputs": [],
   "source": [
    "def M_step(X, gamma):\n",
    "    # YOUR CODE HERE\n",
    "    #raise NotImplementedError()\n",
    "    \n",
    "    Nk = np.sum(gamma, 0)\n",
    "    N = np.sum(Nk)\n",
    "    mu = []\n",
    "    K = gamma.shape[1]\n",
    "    \n",
    "    for k in range(K):\n",
    "        mu.append(np.dot(gamma[:, k], X)/Nk[k])\n",
    "        \n",
    "    mu = np.asarray(mu)\n",
    "    pi = Nk/N\n",
    "    \n",
    "    return mu, pi"
   ]
  },
  {
   "cell_type": "code",
   "execution_count": 129,
   "metadata": {
    "deletable": false,
    "editable": false,
    "nbgrader": {
     "cell_type": "code",
     "checksum": "0f60d48b8b22063cef560b42944a0aa4",
     "grade": true,
     "grade_id": "cell-6e7c751b30acfd45",
     "locked": true,
     "points": 15,
     "schema_version": 3,
     "solution": false
    }
   },
   "outputs": [],
   "source": [
    "# Oh, let's test again\n",
    "mu_test, pi_test = M_step(X_test, gamma_test)\n",
    "\n",
    "assert mu_test.shape == (K_test,D_test)\n",
    "assert pi_test.shape == (K_test, )\n"
   ]
  },
  {
   "cell_type": "code",
   "execution_count": 132,
   "metadata": {
    "deletable": false,
    "nbgrader": {
     "cell_type": "code",
     "checksum": "acfec6384b058cb0ce1932006fbfebc4",
     "grade": true,
     "grade_id": "cell-d6c4368246dee7e6",
     "locked": false,
     "points": 10,
     "schema_version": 3,
     "solution": true
    }
   },
   "outputs": [],
   "source": [
    "def EM(X, K, max_iter, mu=None, pi=None):\n",
    "    # YOUR CODE HERE\n",
    "    #raise NotImplementedError()\n",
    "    \n",
    "    eps = 1e-5\n",
    "    if mu is None:\n",
    "        mu = np.random.uniform(low=.25, high=.75, size=(K,X.shape[1]))\n",
    "    if pi is None:\n",
    "        pi = np.ones(K) / K\n",
    "    \n",
    "    for i in range(max_iter):\n",
    "        mu_old, pi_old = np.copy(mu), np.copy(pi)\n",
    "        gamma = E_step(X, mu, pi)\n",
    "        mu, pi = M_step(X, gamma)\n",
    "        \n",
    "        if np.linalg.norm(mu_old - mu) < eps and np.linalg.norm(pi_old - pi) < eps:\n",
    "            print('Iteration ', i, ' ||mu1-mu0|| = ', np.linalg.norm(mu_old - mu), ' ||pi1-pi0|| = ', np.linalg.norm(pi_old - pi))\n",
    "            return gamma, mu, pi\n",
    "        else:\n",
    "            print('Iteration ', i, ' ||mu1-mu0|| = ', np.linalg.norm(mu_old - mu), ' ||pi1-pi0|| = ', np.linalg.norm(pi_old - pi))\n",
    "        \n",
    "    return gamma, mu, pi"
   ]
  },
  {
   "cell_type": "markdown",
   "metadata": {
    "deletable": false,
    "editable": false,
    "nbgrader": {
     "cell_type": "markdown",
     "checksum": "b4fc12faa0da660f7a4d9cc7deb41b25",
     "grade": false,
     "grade_id": "cell-e1077ed3b83489be",
     "locked": true,
     "schema_version": 3,
     "solution": false
    }
   },
   "source": [
    "### 1.3 Three digits experiment (10 points)\n",
    "In analogue with Bishop $\\S9.3.3$, sample a training set consisting of only __binary__ images of written digits $2$, $3$, and $4$. Run your EM algorithm and show the reconstructed digits."
   ]
  },
  {
   "cell_type": "code",
   "execution_count": 133,
   "metadata": {
    "deletable": false,
    "nbgrader": {
     "cell_type": "code",
     "checksum": "bdbce0fad0ed151063d4c489ce999e3e",
     "grade": true,
     "grade_id": "cell-477155d0264d7259",
     "locked": false,
     "points": 5,
     "schema_version": 3,
     "solution": true
    }
   },
   "outputs": [
    {
     "name": "stdout",
     "output_type": "stream",
     "text": [
      "Iteration  0  ||mu1-mu0|| =  20.80451961676165  ||pi1-pi0|| =  0.28127282077143206\n",
      "Iteration  1  ||mu1-mu0|| =  2.491817610221741  ||pi1-pi0|| =  0.07853000679136639\n",
      "Iteration  2  ||mu1-mu0|| =  1.2328274054189576  ||pi1-pi0|| =  0.10727374063731926\n",
      "Iteration  3  ||mu1-mu0|| =  1.0013101256850188  ||pi1-pi0|| =  0.06955867056457256\n",
      "Iteration  4  ||mu1-mu0|| =  0.6067709295529693  ||pi1-pi0|| =  0.02761098136685654\n",
      "Iteration  5  ||mu1-mu0|| =  0.32518644820772036  ||pi1-pi0|| =  0.011326813098334767\n",
      "Iteration  6  ||mu1-mu0|| =  0.19052860758807377  ||pi1-pi0|| =  0.008723994906605768\n",
      "Iteration  7  ||mu1-mu0|| =  0.1259509757821851  ||pi1-pi0|| =  0.007071360896095489\n",
      "Iteration  8  ||mu1-mu0|| =  0.0833181149759813  ||pi1-pi0|| =  0.00515010687231672\n",
      "Iteration  9  ||mu1-mu0|| =  0.053991904490827254  ||pi1-pi0|| =  0.0032434748054442166\n",
      "Iteration  10  ||mu1-mu0|| =  0.03308341263788753  ||pi1-pi0|| =  0.002029541308418275\n",
      "Iteration  11  ||mu1-mu0|| =  0.018822934359846312  ||pi1-pi0|| =  0.001244705701973588\n",
      "Iteration  12  ||mu1-mu0|| =  0.010677439138461512  ||pi1-pi0|| =  0.0007635262500981976\n",
      "Iteration  13  ||mu1-mu0|| =  0.0065028284984869344  ||pi1-pi0|| =  0.000502732658835267\n",
      "Iteration  14  ||mu1-mu0|| =  0.004310987350550463  ||pi1-pi0|| =  0.00035096205456614416\n",
      "Iteration  15  ||mu1-mu0|| =  0.00302818527618266  ||pi1-pi0|| =  0.00025186517099665866\n",
      "Iteration  16  ||mu1-mu0|| =  0.0030391838235485653  ||pi1-pi0|| =  0.00017946737278645936\n",
      "Iteration  17  ||mu1-mu0|| =  0.0036725243259636167  ||pi1-pi0|| =  0.000180027522317172\n",
      "Iteration  18  ||mu1-mu0|| =  0.004207806202945215  ||pi1-pi0|| =  0.00014207958250786424\n",
      "Iteration  19  ||mu1-mu0|| =  0.00410898312014476  ||pi1-pi0|| =  0.00021692454569233877\n",
      "Iteration  20  ||mu1-mu0|| =  0.004271741429431682  ||pi1-pi0|| =  0.00026460662719462335\n",
      "Iteration  21  ||mu1-mu0|| =  0.002991174563935195  ||pi1-pi0|| =  0.0002064529896424175\n",
      "Iteration  22  ||mu1-mu0|| =  0.0019891725711112707  ||pi1-pi0|| =  0.00014804572468310237\n",
      "Iteration  23  ||mu1-mu0|| =  0.0013225389657784828  ||pi1-pi0|| =  0.00010364943165160638\n",
      "Iteration  24  ||mu1-mu0|| =  0.0006801316458891017  ||pi1-pi0|| =  6.011011292132785e-05\n",
      "Iteration  25  ||mu1-mu0|| =  0.000394180884127197  ||pi1-pi0|| =  3.5739853448170165e-05\n",
      "Iteration  26  ||mu1-mu0|| =  0.00024784718326115846  ||pi1-pi0|| =  2.250727051292368e-05\n",
      "Iteration  27  ||mu1-mu0|| =  0.00016418282912838568  ||pi1-pi0|| =  1.4863926137260964e-05\n",
      "Iteration  28  ||mu1-mu0|| =  0.00011250002150527245  ||pi1-pi0|| =  1.0153971996767465e-05\n",
      "Iteration  29  ||mu1-mu0|| =  7.875816520571687e-05  ||pi1-pi0|| =  7.095425533603396e-06\n",
      "Iteration  30  ||mu1-mu0|| =  5.58849063871262e-05  ||pi1-pi0|| =  5.031559680547873e-06\n",
      "Iteration  31  ||mu1-mu0|| =  3.9994067992726924e-05  ||pi1-pi0|| =  3.601641791220236e-06\n",
      "Iteration  32  ||mu1-mu0|| =  2.8779192847056795e-05  ||pi1-pi0|| =  2.593512379286624e-06\n",
      "Iteration  33  ||mu1-mu0|| =  2.0784164135611894e-05  ||pi1-pi0|| =  1.874700338759224e-06\n",
      "Iteration  34  ||mu1-mu0|| =  1.50471045999408e-05  ||pi1-pi0|| =  1.3584669118486907e-06\n",
      "Iteration  35  ||mu1-mu0|| =  1.0912403138308424e-05  ||pi1-pi0|| =  9.860038102653079e-07\n",
      "Iteration  36  ||mu1-mu0|| =  7.923714320240474e-06  ||pi1-pi0|| =  7.164663564416874e-07\n"
     ]
    }
   ],
   "source": [
    "# YOUR CODE HERE\n",
    "#raise NotImplementedError()\n",
    "\n",
    "K = 3\n",
    "indices = np.where((train_labels >=2) & (train_labels <=4))\n",
    "X = bin_train_data[indices]\n",
    "gamma, mu, pi = EM(X, K, max_iter = 1000, mu=None, pi=None)"
   ]
  },
  {
   "cell_type": "markdown",
   "metadata": {
    "deletable": false,
    "editable": false,
    "nbgrader": {
     "cell_type": "markdown",
     "checksum": "485543f4893938d2a9dc1c17d8221cbc",
     "grade": false,
     "grade_id": "cell-88c9664f995b1909",
     "locked": true,
     "schema_version": 3,
     "solution": false
    }
   },
   "source": [
    "Can you identify which element in the latent space corresponds to which digit? What are the identified mixing coefficients for digits $2$, $3$ and $4$, and how do these compare to the true ones?"
   ]
  },
  {
   "cell_type": "code",
   "execution_count": 134,
   "metadata": {},
   "outputs": [
    {
     "data": {
      "image/png": "[encoded data removed]",
      "text/plain": [
       "<Figure size 432x288 with 3 Axes>"
      ]
     },
     "metadata": {},
     "output_type": "display_data"
    }
   ],
   "source": [
    "f = plt.figure()\n",
    "f.add_subplot(1, 3, 1)\n",
    "plt.imshow(mu[0].reshape(28, 28), cmap='Greys')\n",
    "f.add_subplot(1, 3, 2) \n",
    "plt.imshow(mu[1].reshape(28, 28), cmap='Greys')\n",
    "f.add_subplot(1, 3, 3) \n",
    "plt.imshow(mu[2].reshape(28, 28), cmap='Greys');"
   ]
  },
  {
   "cell_type": "code",
   "execution_count": 135,
   "metadata": {},
   "outputs": [
    {
     "name": "stdout",
     "output_type": "stream",
     "text": [
      "Mixing coeffcients:  0.3181069862583857   0.3328683328491127   0.3490246808925016\n"
     ]
    }
   ],
   "source": [
    "print('Mixing coeffcients: ', pi[1], ' ', pi[0], ' ', pi[2])"
   ]
  },
  {
   "cell_type": "code",
   "execution_count": 136,
   "metadata": {},
   "outputs": [
    {
     "name": "stdout",
     "output_type": "stream",
     "text": [
      "Real mixing coefficients:  0.33227371591099214   0.34192181138809885   0.32580447270090906\n"
     ]
    }
   ],
   "source": [
    "ind2 = len(np.where(train_labels ==2)[0])\n",
    "ind2 /= len(indices[0])\n",
    "ind3 = len(np.where(train_labels == 3)[0])\n",
    "ind3 /= len(indices[0])\n",
    "ind4 = len(np.where(train_labels == 4)[0])\n",
    "ind4 /= len(indices[0])\n",
    "print('Real mixing coefficients: ', ind2, ' ', ind3, ' ', ind4)"
   ]
  },
  {
   "cell_type": "markdown",
   "metadata": {
    "deletable": false,
    "nbgrader": {
     "cell_type": "markdown",
     "checksum": "ae7b5acea6089e2590059f90b0d0a0be",
     "grade": true,
     "grade_id": "cell-3680ae2159c48193",
     "locked": false,
     "points": 5,
     "schema_version": 3,
     "solution": true
    }
   },
   "source": [
    "YOUR ANSWER HERE\n",
    "\n",
    "Yes, we can identify which $\\mu$ corresponds to which digit. First element $\\mu_1$ correspond to 3, second  $\\mu_2$ to 2, and third  $\\mu_3$ to 4. Obtained mixing coeffcients does not differ from the real ones, which are computed by averaging the counts for each label. This indicates that we converged to the true solution."
   ]
  },
  {
   "cell_type": "markdown",
   "metadata": {
    "deletable": false,
    "editable": false,
    "nbgrader": {
     "cell_type": "markdown",
     "checksum": "98e04feb59a36867367b3027df9e226d",
     "grade": false,
     "grade_id": "cell-0891dda1c3e80e9a",
     "locked": true,
     "schema_version": 3,
     "solution": false
    }
   },
   "source": [
    "### 1.4 Experiments (20 points)\n",
    "Perform the follow-up experiments listed below using your implementation of the EM algorithm. For each of these, describe/comment on the obtained results and give an explanation. You may still use your dataset with only digits 2, 3 and 4 as otherwise computations can take very long."
   ]
  },
  {
   "cell_type": "markdown",
   "metadata": {
    "deletable": false,
    "editable": false,
    "nbgrader": {
     "cell_type": "markdown",
     "checksum": "439067186fa3ef1d7261a9bcf5a84ea6",
     "grade": false,
     "grade_id": "cell-06fe1b1355689928",
     "locked": true,
     "schema_version": 3,
     "solution": false
    }
   },
   "source": [
    "#### 1.4.1 Size of the latent space (5 points)\n",
    "Run EM with $K$ larger or smaller than the true number of classes. Describe your results."
   ]
  },
  {
   "cell_type": "code",
   "execution_count": 148,
   "metadata": {
    "deletable": false,
    "nbgrader": {
     "cell_type": "code",
     "checksum": "791512aeadd30c4b586b966ca10e6fad",
     "grade": true,
     "grade_id": "cell-6c9057f2546b7215",
     "locked": false,
     "points": 2,
     "schema_version": 3,
     "solution": true
    }
   },
   "outputs": [
    {
     "name": "stdout",
     "output_type": "stream",
     "text": [
      "Iteration  0  ||mu1-mu0|| =  11.820345507982484  ||pi1-pi0|| =  0.0\n",
      "Iteration  1  ||mu1-mu0|| =  0.0  ||pi1-pi0|| =  0.0\n"
     ]
    },
    {
     "data": {
      "text/plain": [
       "<matplotlib.image.AxesImage at 0x134963278>"
      ]
     },
     "execution_count": 148,
     "metadata": {},
     "output_type": "execute_result"
    },
    {
     "data": {
      "image/png": "[encoded data removed]",
      "text/plain": [
       "<Figure size 432x288 with 1 Axes>"
      ]
     },
     "metadata": {},
     "output_type": "display_data"
    }
   ],
   "source": [
    "# YOUR CODE HERE\n",
    "#raise NotImplementedError()\n",
    "\n",
    "K = 1\n",
    "indices = np.where((train_labels >=2) & (train_labels <=4))\n",
    "X = bin_train_data[indices]\n",
    "gamma, mu, pi = EM(X, K, max_iter = 1000, mu=None, pi=None)\n",
    "\n",
    "f = plt.figure()\n",
    "f.add_subplot(1, 1, 1)\n",
    "plt.imshow(mu[0].reshape(28, 28), cmap='Greys')"
   ]
  },
  {
   "cell_type": "code",
   "execution_count": 149,
   "metadata": {},
   "outputs": [
    {
     "name": "stdout",
     "output_type": "stream",
     "text": [
      "Iteration  0  ||mu1-mu0|| =  16.76847380675752  ||pi1-pi0|| =  0.26267533565363077\n",
      "Iteration  1  ||mu1-mu0|| =  1.0832550427235568  ||pi1-pi0|| =  0.0952445019569941\n",
      "Iteration  2  ||mu1-mu0|| =  0.9452055739972997  ||pi1-pi0|| =  0.06184212165663634\n",
      "Iteration  3  ||mu1-mu0|| =  0.9074047155498263  ||pi1-pi0|| =  0.014967503503025866\n",
      "Iteration  4  ||mu1-mu0|| =  0.48554926895195594  ||pi1-pi0|| =  0.0225085943018757\n",
      "Iteration  5  ||mu1-mu0|| =  0.3315424630674538  ||pi1-pi0|| =  0.023664319417709568\n",
      "Iteration  6  ||mu1-mu0|| =  0.30444412183071673  ||pi1-pi0|| =  0.013776059427655116\n",
      "Iteration  7  ||mu1-mu0|| =  0.2720656101991254  ||pi1-pi0|| =  6.945371225722458e-06\n",
      "Iteration  8  ||mu1-mu0|| =  0.2605466601087206  ||pi1-pi0|| =  0.009757696297464136\n",
      "Iteration  9  ||mu1-mu0|| =  0.2724816322471978  ||pi1-pi0|| =  0.020599742103791997\n",
      "Iteration  10  ||mu1-mu0|| =  0.25842179802475523  ||pi1-pi0|| =  0.024850458674003803\n",
      "Iteration  11  ||mu1-mu0|| =  0.2544946289013859  ||pi1-pi0|| =  0.02734587100451095\n",
      "Iteration  12  ||mu1-mu0|| =  0.28067162158482273  ||pi1-pi0|| =  0.032273264895897456\n",
      "Iteration  13  ||mu1-mu0|| =  0.2965115727222381  ||pi1-pi0|| =  0.035050262080810336\n",
      "Iteration  14  ||mu1-mu0|| =  0.35239934123835  ||pi1-pi0|| =  0.039368862240866026\n",
      "Iteration  15  ||mu1-mu0|| =  0.41673228098534204  ||pi1-pi0|| =  0.04347234457946763\n",
      "Iteration  16  ||mu1-mu0|| =  0.413277824715452  ||pi1-pi0|| =  0.04248991543417132\n",
      "Iteration  17  ||mu1-mu0|| =  0.23956003931647277  ||pi1-pi0|| =  0.024123051024817387\n",
      "Iteration  18  ||mu1-mu0|| =  0.08701790268797738  ||pi1-pi0|| =  0.0084877365358863\n",
      "Iteration  19  ||mu1-mu0|| =  0.02729560532837413  ||pi1-pi0|| =  0.002332256832253372\n",
      "Iteration  20  ||mu1-mu0|| =  0.009627342119628235  ||pi1-pi0|| =  0.0006622173302495189\n",
      "Iteration  21  ||mu1-mu0|| =  0.004263181159364558  ||pi1-pi0|| =  0.00022147171932879967\n",
      "Iteration  22  ||mu1-mu0|| =  0.007421961756774633  ||pi1-pi0|| =  0.0004557063368072408\n",
      "Iteration  23  ||mu1-mu0|| =  0.002603308050565129  ||pi1-pi0|| =  7.077235107173266e-05\n",
      "Iteration  24  ||mu1-mu0|| =  0.0006513967979202733  ||pi1-pi0|| =  2.275979735457444e-06\n",
      "Iteration  25  ||mu1-mu0|| =  0.00026833263259283026  ||pi1-pi0|| =  6.480289765239456e-06\n",
      "Iteration  26  ||mu1-mu0|| =  0.0014276326849232727  ||pi1-pi0|| =  7.033351848849164e-05\n",
      "Iteration  27  ||mu1-mu0|| =  0.00026637385681052187  ||pi1-pi0|| =  2.8826357985284043e-05\n",
      "Iteration  28  ||mu1-mu0|| =  0.0013594961053068398  ||pi1-pi0|| =  8.184017270051294e-05\n",
      "Iteration  29  ||mu1-mu0|| =  0.0027330150899170687  ||pi1-pi0|| =  0.00017943170658486687\n",
      "Iteration  30  ||mu1-mu0|| =  0.007792802779150573  ||pi1-pi0|| =  0.0006181084525957454\n",
      "Iteration  31  ||mu1-mu0|| =  0.002293208365448759  ||pi1-pi0|| =  0.00016404395210023665\n",
      "Iteration  32  ||mu1-mu0|| =  0.017230980839976665  ||pi1-pi0|| =  0.0014885619487498179\n",
      "Iteration  33  ||mu1-mu0|| =  0.007454456260979073  ||pi1-pi0|| =  0.0008063536336275844\n",
      "Iteration  34  ||mu1-mu0|| =  0.0041818804040866095  ||pi1-pi0|| =  0.0002898184218731161\n",
      "Iteration  35  ||mu1-mu0|| =  0.0033658061656629155  ||pi1-pi0|| =  0.0002429274688434378\n",
      "Iteration  36  ||mu1-mu0|| =  0.0017610704182769883  ||pi1-pi0|| =  0.000145823155082707\n",
      "Iteration  37  ||mu1-mu0|| =  0.0008093088468740523  ||pi1-pi0|| =  7.046116556023028e-05\n",
      "Iteration  38  ||mu1-mu0|| =  0.00032929696111530114  ||pi1-pi0|| =  3.061817613428397e-05\n",
      "Iteration  39  ||mu1-mu0|| =  0.0001316015025862583  ||pi1-pi0|| =  1.2705938933709057e-05\n",
      "Iteration  40  ||mu1-mu0|| =  5.2741435990755484e-05  ||pi1-pi0|| =  5.2117257409667655e-06\n",
      "Iteration  41  ||mu1-mu0|| =  0.014685628612427904  ||pi1-pi0|| =  0.0010956705037046097\n",
      "Iteration  42  ||mu1-mu0|| =  0.02101948778884515  ||pi1-pi0|| =  0.0018749355417879015\n",
      "Iteration  43  ||mu1-mu0|| =  0.006648806284121737  ||pi1-pi0|| =  0.0007076157986145641\n",
      "Iteration  44  ||mu1-mu0|| =  0.0023352686268763726  ||pi1-pi0|| =  0.0002607825472555905\n",
      "Iteration  45  ||mu1-mu0|| =  0.0008790861812213069  ||pi1-pi0|| =  9.971908784979794e-05\n",
      "Iteration  46  ||mu1-mu0|| =  0.000338562840092031  ||pi1-pi0|| =  3.8914820311931935e-05\n",
      "Iteration  47  ||mu1-mu0|| =  0.01784716176596226  ||pi1-pi0|| =  0.0012941111751036587\n",
      "Iteration  48  ||mu1-mu0|| =  0.057739419602251284  ||pi1-pi0|| =  0.004940873714782679\n",
      "Iteration  49  ||mu1-mu0|| =  0.05001679926486603  ||pi1-pi0|| =  0.004793075928401956\n",
      "Iteration  50  ||mu1-mu0|| =  0.0353247511992829  ||pi1-pi0|| =  0.003462135706377647\n",
      "Iteration  51  ||mu1-mu0|| =  0.021517518593261946  ||pi1-pi0|| =  0.0021139458204635516\n",
      "Iteration  52  ||mu1-mu0|| =  0.012271029333007045  ||pi1-pi0|| =  0.001201124971595729\n",
      "Iteration  53  ||mu1-mu0|| =  0.006791479708959536  ||pi1-pi0|| =  0.0006640565922276061\n",
      "Iteration  54  ||mu1-mu0|| =  0.0036852273020079014  ||pi1-pi0|| =  0.00035954907896662753\n",
      "Iteration  55  ||mu1-mu0|| =  0.001972050254266712  ||pi1-pi0|| =  0.000191682751894224\n",
      "Iteration  56  ||mu1-mu0|| =  0.0010464716789681666  ||pi1-pi0|| =  0.0001010946339104528\n",
      "Iteration  57  ||mu1-mu0|| =  0.000552902219518103  ||pi1-pi0|| =  5.296697530803161e-05\n",
      "Iteration  58  ||mu1-mu0|| =  0.0002915286628700534  ||pi1-pi0|| =  2.764646627755672e-05\n",
      "Iteration  59  ||mu1-mu0|| =  0.00015358430146373756  ||pi1-pi0|| =  1.4398971661213022e-05\n",
      "Iteration  60  ||mu1-mu0|| =  8.089258219924556e-05  ||pi1-pi0|| =  7.489408053520071e-06\n",
      "Iteration  61  ||mu1-mu0|| =  4.260896181959932e-05  ||pi1-pi0|| =  3.89197036034876e-06\n",
      "Iteration  62  ||mu1-mu0|| =  2.244882990653695e-05  ||pi1-pi0|| =  2.021074125058123e-06\n",
      "Iteration  63  ||mu1-mu0|| =  1.183112291500951e-05  ||pi1-pi0|| =  1.0488666931478672e-06\n",
      "Iteration  64  ||mu1-mu0|| =  6.237662161676568e-06  ||pi1-pi0|| =  5.439920957849601e-07\n"
     ]
    },
    {
     "data": {
      "text/plain": [
       "<matplotlib.image.AxesImage at 0x128db82e8>"
      ]
     },
     "execution_count": 149,
     "metadata": {},
     "output_type": "execute_result"
    },
    {
     "data": {
      "image/png": "[encoded data removed]",
      "text/plain": [
       "<Figure size 432x288 with 2 Axes>"
      ]
     },
     "metadata": {},
     "output_type": "display_data"
    }
   ],
   "source": [
    "K = 2\n",
    "indices = np.where((train_labels >=2) & (train_labels <=4))\n",
    "X = bin_train_data[indices]\n",
    "gamma, mu, pi = EM(X, K, max_iter = 1000, mu=None, pi=None)\n",
    "\n",
    "f = plt.figure()\n",
    "f.add_subplot(1, 2, 1)\n",
    "plt.imshow(mu[0].reshape(28, 28), cmap='Greys')\n",
    "f.add_subplot(1, 2, 2) \n",
    "plt.imshow(mu[1].reshape(28, 28), cmap='Greys')"
   ]
  },
  {
   "cell_type": "code",
   "execution_count": 150,
   "metadata": {},
   "outputs": [
    {
     "name": "stdout",
     "output_type": "stream",
     "text": [
      "Iteration  0  ||mu1-mu0|| =  24.043451100500786  ||pi1-pi0|| =  0.5792585176637735\n",
      "Iteration  1  ||mu1-mu0|| =  4.0638896029498754  ||pi1-pi0|| =  0.2671676342597115\n",
      "Iteration  2  ||mu1-mu0|| =  1.7855200048274964  ||pi1-pi0|| =  0.12158039327122126\n",
      "Iteration  3  ||mu1-mu0|| =  0.7315562334088066  ||pi1-pi0|| =  0.04997383605049851\n",
      "Iteration  4  ||mu1-mu0|| =  0.40376788330204033  ||pi1-pi0|| =  0.02026618656188793\n",
      "Iteration  5  ||mu1-mu0|| =  0.4135182530492327  ||pi1-pi0|| =  0.014455777532160539\n",
      "Iteration  6  ||mu1-mu0|| =  0.4098950758887079  ||pi1-pi0|| =  0.008675844236522262\n",
      "Iteration  7  ||mu1-mu0|| =  0.3961994283446328  ||pi1-pi0|| =  0.0053159797119492445\n",
      "Iteration  8  ||mu1-mu0|| =  0.3417707629166774  ||pi1-pi0|| =  0.0023382520426983287\n",
      "Iteration  9  ||mu1-mu0|| =  0.2806759400050434  ||pi1-pi0|| =  0.002694496902149384\n",
      "Iteration  10  ||mu1-mu0|| =  0.21253362819928182  ||pi1-pi0|| =  0.003497124191034797\n",
      "Iteration  11  ||mu1-mu0|| =  0.16239549132683484  ||pi1-pi0|| =  0.0035832662654167635\n",
      "Iteration  12  ||mu1-mu0|| =  0.13782052220105043  ||pi1-pi0|| =  0.0033030659871881294\n",
      "Iteration  13  ||mu1-mu0|| =  0.1193730825871863  ||pi1-pi0|| =  0.00394874361888348\n",
      "Iteration  14  ||mu1-mu0|| =  0.09069305598887427  ||pi1-pi0|| =  0.003742214461828772\n",
      "Iteration  15  ||mu1-mu0|| =  0.07222893304407824  ||pi1-pi0|| =  0.002986870938088508\n",
      "Iteration  16  ||mu1-mu0|| =  0.06495580191598728  ||pi1-pi0|| =  0.0019411123192435164\n",
      "Iteration  17  ||mu1-mu0|| =  0.11535028322523178  ||pi1-pi0|| =  0.0037178509093633624\n",
      "Iteration  18  ||mu1-mu0|| =  0.07182014603397872  ||pi1-pi0|| =  0.0016497208486463038\n",
      "Iteration  19  ||mu1-mu0|| =  0.05401520940682541  ||pi1-pi0|| =  0.0012335084590589076\n",
      "Iteration  20  ||mu1-mu0|| =  0.04589098181051009  ||pi1-pi0|| =  0.0013919994383676793\n",
      "Iteration  21  ||mu1-mu0|| =  0.03610144968788401  ||pi1-pi0|| =  0.001181536947964218\n",
      "Iteration  22  ||mu1-mu0|| =  0.02889554435050516  ||pi1-pi0|| =  0.0010538279373132054\n",
      "Iteration  23  ||mu1-mu0|| =  0.024210662207454724  ||pi1-pi0|| =  0.0009785834339053278\n",
      "Iteration  24  ||mu1-mu0|| =  0.023544567973583883  ||pi1-pi0|| =  0.0009272000526504469\n",
      "Iteration  25  ||mu1-mu0|| =  0.026000907311067627  ||pi1-pi0|| =  0.0010941962440635974\n",
      "Iteration  26  ||mu1-mu0|| =  0.020979207557996902  ||pi1-pi0|| =  0.000980551217809779\n",
      "Iteration  27  ||mu1-mu0|| =  0.018153847556982218  ||pi1-pi0|| =  0.0008175646254653839\n",
      "Iteration  28  ||mu1-mu0|| =  0.01657700636274337  ||pi1-pi0|| =  0.0006341190709501969\n",
      "Iteration  29  ||mu1-mu0|| =  0.018358445303428415  ||pi1-pi0|| =  0.0004797352484635614\n",
      "Iteration  30  ||mu1-mu0|| =  0.023310204618294347  ||pi1-pi0|| =  0.0005219860715163703\n",
      "Iteration  31  ||mu1-mu0|| =  0.02202368941661901  ||pi1-pi0|| =  0.0004469842061744879\n",
      "Iteration  32  ||mu1-mu0|| =  0.01945329282968151  ||pi1-pi0|| =  0.00033111220305615446\n",
      "Iteration  33  ||mu1-mu0|| =  0.016221865312304937  ||pi1-pi0|| =  0.0002580234524643764\n",
      "Iteration  34  ||mu1-mu0|| =  0.013459760063884685  ||pi1-pi0|| =  0.0002715084455607092\n",
      "Iteration  35  ||mu1-mu0|| =  0.011294558863356214  ||pi1-pi0|| =  0.0002661168930328347\n",
      "Iteration  36  ||mu1-mu0|| =  0.009774860780562725  ||pi1-pi0|| =  0.0002563332455097651\n",
      "Iteration  37  ||mu1-mu0|| =  0.00886061676331928  ||pi1-pi0|| =  0.00024663202719113535\n",
      "Iteration  38  ||mu1-mu0|| =  0.008427759035500656  ||pi1-pi0|| =  0.00023578099283268485\n",
      "Iteration  39  ||mu1-mu0|| =  0.008281824329572744  ||pi1-pi0|| =  0.00022975196919177942\n",
      "Iteration  40  ||mu1-mu0|| =  0.008227538373874887  ||pi1-pi0|| =  0.00023231380413072235\n",
      "Iteration  41  ||mu1-mu0|| =  0.008138052776747383  ||pi1-pi0|| =  0.0002421939155390854\n",
      "Iteration  42  ||mu1-mu0|| =  0.007937313452887623  ||pi1-pi0|| =  0.00025585605194833593\n",
      "Iteration  43  ||mu1-mu0|| =  0.007593927300772753  ||pi1-pi0|| =  0.0002689140787573443\n",
      "Iteration  44  ||mu1-mu0|| =  0.0071277921359065724  ||pi1-pi0|| =  0.00027660709728733504\n",
      "Iteration  45  ||mu1-mu0|| =  0.00658609352041686  ||pi1-pi0|| =  0.00027600479351506794\n",
      "Iteration  46  ||mu1-mu0|| =  0.006013630497608048  ||pi1-pi0|| =  0.00026716988807173577\n",
      "Iteration  47  ||mu1-mu0|| =  0.005442648633821353  ||pi1-pi0|| =  0.0002520790251049245\n",
      "Iteration  48  ||mu1-mu0|| =  0.0048943059536559474  ||pi1-pi0|| =  0.0002331392667156123\n",
      "Iteration  49  ||mu1-mu0|| =  0.004381791201250403  ||pi1-pi0|| =  0.000212397671373522\n",
      "Iteration  50  ||mu1-mu0|| =  0.0039126511124438785  ||pi1-pi0|| =  0.00019133702520056524\n",
      "Iteration  51  ||mu1-mu0|| =  0.0034905038511307174  ||pi1-pi0|| =  0.0001709342048176798\n",
      "Iteration  52  ||mu1-mu0|| =  0.003116315497176273  ||pi1-pi0|| =  0.00015178691903052632\n",
      "Iteration  53  ||mu1-mu0|| =  0.002789349258574028  ||pi1-pi0|| =  0.0001342259373654193\n",
      "Iteration  54  ||mu1-mu0|| =  0.002508105513036042  ||pi1-pi0|| =  0.00011839810061210926\n",
      "Iteration  55  ||mu1-mu0|| =  0.002271237690091275  ||pi1-pi0|| =  0.0001043402377792634\n",
      "Iteration  56  ||mu1-mu0|| =  0.0020774921242771973  ||pi1-pi0|| =  9.20579347252155e-05\n",
      "Iteration  57  ||mu1-mu0|| =  0.0019235285483690445  ||pi1-pi0|| =  8.16062044316547e-05\n",
      "Iteration  58  ||mu1-mu0|| =  0.0017997572054418338  ||pi1-pi0|| =  7.314371993289623e-05\n",
      "Iteration  59  ||mu1-mu0|| =  0.0016885585163393558  ||pi1-pi0|| =  6.68413123609293e-05\n",
      "Iteration  60  ||mu1-mu0|| =  0.0015921579677190428  ||pi1-pi0|| =  6.444163824771758e-05\n",
      "Iteration  61  ||mu1-mu0|| =  0.003061139120167835  ||pi1-pi0|| =  0.00012467815579466233\n",
      "Iteration  62  ||mu1-mu0|| =  0.0020301733237945425  ||pi1-pi0|| =  9.781075677330431e-05\n",
      "Iteration  63  ||mu1-mu0|| =  0.0018123865245484702  ||pi1-pi0|| =  8.419900892183438e-05\n",
      "Iteration  64  ||mu1-mu0|| =  0.0016410072230374586  ||pi1-pi0|| =  7.565534124068861e-05\n",
      "Iteration  65  ||mu1-mu0|| =  0.001486356407782678  ||pi1-pi0|| =  6.865153004896218e-05\n",
      "Iteration  66  ||mu1-mu0|| =  0.0013464180450500185  ||pi1-pi0|| =  6.242542079277443e-05\n",
      "Iteration  67  ||mu1-mu0|| =  0.0012203974641634182  ||pi1-pi0|| =  5.6786511305274854e-05\n",
      "Iteration  68  ||mu1-mu0|| =  0.0011072534884919785  ||pi1-pi0|| =  5.1672965328067416e-05\n",
      "Iteration  69  ||mu1-mu0|| =  0.0010057739331991093  ||pi1-pi0|| =  4.7045062633265796e-05\n",
      "Iteration  70  ||mu1-mu0|| =  0.0009147355627132529  ||pi1-pi0|| =  4.2863431858325474e-05\n",
      "Iteration  71  ||mu1-mu0|| =  0.0009720653994635617  ||pi1-pi0|| =  3.4553052612512145e-05\n",
      "Iteration  72  ||mu1-mu0|| =  0.0044325689379638294  ||pi1-pi0|| =  4.946869386006939e-05\n",
      "Iteration  73  ||mu1-mu0|| =  0.002761128070561738  ||pi1-pi0|| =  4.5648739514054655e-05\n",
      "Iteration  74  ||mu1-mu0|| =  0.002400997025732832  ||pi1-pi0|| =  6.748375788755744e-05\n",
      "Iteration  75  ||mu1-mu0|| =  0.0021486939510688445  ||pi1-pi0|| =  7.604318268661879e-05\n",
      "Iteration  76  ||mu1-mu0|| =  0.0019491960011107272  ||pi1-pi0|| =  7.769628881742295e-05\n",
      "Iteration  77  ||mu1-mu0|| =  0.0017820665418005325  ||pi1-pi0|| =  7.603052126743807e-05\n",
      "Iteration  78  ||mu1-mu0|| =  0.0016379321806008402  ||pi1-pi0|| =  7.282991645360322e-05\n",
      "Iteration  79  ||mu1-mu0|| =  0.0015120043455187416  ||pi1-pi0|| =  6.900537240626653e-05\n",
      "Iteration  80  ||mu1-mu0|| =  0.0014014039771522281  ||pi1-pi0|| =  6.503422978883943e-05\n",
      "Iteration  81  ||mu1-mu0|| =  0.0013040908797533417  ||pi1-pi0|| =  6.116781050469162e-05\n",
      "Iteration  82  ||mu1-mu0|| =  0.0012184400560559655  ||pi1-pi0|| =  5.753452001206445e-05\n",
      "Iteration  83  ||mu1-mu0|| =  0.0011430751232801907  ||pi1-pi0|| =  5.419402774490456e-05\n",
      "Iteration  84  ||mu1-mu0|| =  0.0010768020892895382  ||pi1-pi0|| =  5.1167217798510814e-05\n",
      "Iteration  85  ||mu1-mu0|| =  0.0010185805987160854  ||pi1-pi0|| =  4.8453403594071864e-05\n",
      "Iteration  86  ||mu1-mu0|| =  0.0009675080595845143  ||pi1-pi0|| =  4.604047117203537e-05\n",
      "Iteration  87  ||mu1-mu0|| =  0.0009228076471130382  ||pi1-pi0|| =  4.3910920836299e-05\n",
      "Iteration  88  ||mu1-mu0|| =  0.0008838172900563433  ||pi1-pi0|| =  4.204545445171597e-05\n",
      "Iteration  89  ||mu1-mu0|| =  0.0008499789203439354  ||pi1-pi0|| =  4.0425061546849465e-05\n",
      "Iteration  90  ||mu1-mu0|| =  0.0008208278460384721  ||pi1-pi0|| =  3.903216773106265e-05\n",
      "Iteration  91  ||mu1-mu0|| =  0.0007959820428093941  ||pi1-pi0|| =  3.7851175221623785e-05\n",
      "Iteration  92  ||mu1-mu0|| =  0.0007751308064785211  ||pi1-pi0|| =  3.686857484476493e-05\n"
     ]
    },
    {
     "name": "stdout",
     "output_type": "stream",
     "text": [
      "Iteration  93  ||mu1-mu0|| =  0.0007580216640472499  ||pi1-pi0|| =  3.607270214811288e-05\n",
      "Iteration  94  ||mu1-mu0|| =  0.0007444437187710334  ||pi1-pi0|| =  3.5453126056276265e-05\n",
      "Iteration  95  ||mu1-mu0|| =  0.0007342047526844871  ||pi1-pi0|| =  3.4999587610297925e-05\n",
      "Iteration  96  ||mu1-mu0|| =  0.0007270986800321573  ||pi1-pi0|| =  3.470035580976395e-05\n",
      "Iteration  97  ||mu1-mu0|| =  0.0007228600748259515  ||pi1-pi0|| =  3.4539871339199506e-05\n",
      "Iteration  98  ||mu1-mu0|| =  0.0007211050729035264  ||pi1-pi0|| =  3.449568363896209e-05\n",
      "Iteration  99  ||mu1-mu0|| =  0.0007212654917227363  ||pi1-pi0|| =  3.4535075294631845e-05\n",
      "Iteration  100  ||mu1-mu0|| =  0.0007225375206013871  ||pi1-pi0|| =  3.4612513625105914e-05\n",
      "Iteration  101  ||mu1-mu0|| =  0.0007238862459271093  ||pi1-pi0|| =  3.466995413935552e-05\n",
      "Iteration  102  ||mu1-mu0|| =  0.0007254481737031984  ||pi1-pi0|| =  3.458227955321796e-05\n",
      "Iteration  103  ||mu1-mu0|| =  0.002182266928199769  ||pi1-pi0|| =  3.1550217002409566e-05\n",
      "Iteration  104  ||mu1-mu0|| =  0.0030413509877771526  ||pi1-pi0|| =  3.991381316116941e-05\n",
      "Iteration  105  ||mu1-mu0|| =  0.0023564778595784952  ||pi1-pi0|| =  4.043346451321416e-05\n",
      "Iteration  106  ||mu1-mu0|| =  0.0022217971357508435  ||pi1-pi0|| =  5.8267341415997365e-05\n",
      "Iteration  107  ||mu1-mu0|| =  0.002134948551050328  ||pi1-pi0|| =  6.967657670433281e-05\n",
      "Iteration  108  ||mu1-mu0|| =  0.0020602271240202264  ||pi1-pi0|| =  7.619730363400817e-05\n",
      "Iteration  109  ||mu1-mu0|| =  0.0019902447239779275  ||pi1-pi0|| =  7.950127395076876e-05\n",
      "Iteration  110  ||mu1-mu0|| =  0.0019234767613410149  ||pi1-pi0|| =  8.073295452683859e-05\n",
      "Iteration  111  ||mu1-mu0|| =  0.001859720089987174  ||pi1-pi0|| =  8.064155936817032e-05\n",
      "Iteration  112  ||mu1-mu0|| =  0.0017989654301220498  ||pi1-pi0|| =  7.971160897401585e-05\n",
      "Iteration  113  ||mu1-mu0|| =  0.001741155597447748  ||pi1-pi0|| =  7.825578110150573e-05\n",
      "Iteration  114  ||mu1-mu0|| =  0.001686180599005824  ||pi1-pi0|| =  7.647690896910921e-05\n",
      "Iteration  115  ||mu1-mu0|| =  0.0016339163545672057  ||pi1-pi0|| =  7.450809770869145e-05\n",
      "Iteration  116  ||mu1-mu0|| =  0.0015842546596825013  ||pi1-pi0|| =  7.243816798612676e-05\n",
      "Iteration  117  ||mu1-mu0|| =  0.0015371166715479868  ||pi1-pi0|| =  7.032762092299937e-05\n",
      "Iteration  118  ||mu1-mu0|| =  0.0014924539547088562  ||pi1-pi0|| =  6.821862768835256e-05\n",
      "Iteration  119  ||mu1-mu0|| =  0.0014502422795114069  ||pi1-pi0|| =  6.614129826753874e-05\n",
      "Iteration  120  ||mu1-mu0|| =  0.001410471851277403  ||pi1-pi0|| =  6.411763723879379e-05\n",
      "Iteration  121  ||mu1-mu0|| =  0.0013731360130291926  ||pi1-pi0|| =  6.21640526048865e-05\n",
      "Iteration  122  ||mu1-mu0|| =  0.0013382193431738848  ||pi1-pi0|| =  6.0292948242826577e-05\n",
      "Iteration  123  ||mu1-mu0|| =  0.0013056854988391638  ||pi1-pi0|| =  5.851372400672173e-05\n",
      "Iteration  124  ||mu1-mu0|| =  0.0012754650490435927  ||pi1-pi0|| =  5.6833378555762295e-05\n",
      "Iteration  125  ||mu1-mu0|| =  0.0012474438169514399  ||pi1-pi0|| =  5.5256827066105226e-05\n",
      "Iteration  126  ||mu1-mu0|| =  0.001221452831383596  ||pi1-pi0|| =  5.378699378265833e-05\n",
      "Iteration  127  ||mu1-mu0|| =  0.0011972617298320926  ||pi1-pi0|| =  5.2424711675224345e-05\n",
      "Iteration  128  ||mu1-mu0|| =  0.0011745780700183814  ||pi1-pi0|| =  5.1168458755122725e-05\n",
      "Iteration  129  ||mu1-mu0|| =  0.001153055043907808  ||pi1-pi0|| =  5.001398443000224e-05\n",
      "Iteration  130  ||mu1-mu0|| =  0.0011323090687336925  ||pi1-pi0|| =  4.8953925958115546e-05\n",
      "Iteration  131  ||mu1-mu0|| =  0.0011119464889438214  ||pi1-pi0|| =  4.7977568922349455e-05\n",
      "Iteration  132  ||mu1-mu0|| =  0.0010915956757076158  ||pi1-pi0|| =  4.707093553845979e-05\n",
      "Iteration  133  ||mu1-mu0|| =  0.0010709384058152555  ||pi1-pi0|| =  4.6217353936777755e-05\n",
      "Iteration  134  ||mu1-mu0|| =  0.0010497339160922296  ||pi1-pi0|| =  4.539855140689852e-05\n",
      "Iteration  135  ||mu1-mu0|| =  0.0010278309869167857  ||pi1-pi0|| =  4.459614859445539e-05\n",
      "Iteration  136  ||mu1-mu0|| =  0.0010051669640596332  ||pi1-pi0|| =  4.379327805953342e-05\n",
      "Iteration  137  ||mu1-mu0|| =  0.0009817562162022808  ||pi1-pi0|| =  4.297598919057496e-05\n",
      "Iteration  138  ||mu1-mu0|| =  0.0009576793806373176  ||pi1-pi0|| =  4.213426058797553e-05\n",
      "Iteration  139  ||mu1-mu0|| =  0.0009335682425958911  ||pi1-pi0|| =  4.1259524574864774e-05\n",
      "Iteration  140  ||mu1-mu0|| =  0.0010275333282738297  ||pi1-pi0|| =  3.744456461771608e-05\n",
      "Iteration  141  ||mu1-mu0|| =  0.004404083272712965  ||pi1-pi0|| =  9.794792882792697e-05\n",
      "Iteration  142  ||mu1-mu0|| =  0.005595719903904136  ||pi1-pi0|| =  0.00012169822605485454\n",
      "Iteration  143  ||mu1-mu0|| =  0.004873118228777435  ||pi1-pi0|| =  8.628406601649726e-05\n",
      "Iteration  144  ||mu1-mu0|| =  0.004280848802632826  ||pi1-pi0|| =  0.00010331579429048017\n",
      "Iteration  145  ||mu1-mu0|| =  0.003916572378070556  ||pi1-pi0|| =  0.00012647644072527665\n",
      "Iteration  146  ||mu1-mu0|| =  0.003647089623555094  ||pi1-pi0|| =  0.00013848299945322165\n",
      "Iteration  147  ||mu1-mu0|| =  0.0034258938229452147  ||pi1-pi0|| =  0.00014217679698740794\n",
      "Iteration  148  ||mu1-mu0|| =  0.0032347127590957258  ||pi1-pi0|| =  0.00014097190312762928\n",
      "Iteration  149  ||mu1-mu0|| =  0.0030660582317757626  ||pi1-pi0|| =  0.0001371093540255845\n",
      "Iteration  150  ||mu1-mu0|| =  0.002916485982863292  ||pi1-pi0|| =  0.00013192808599364923\n",
      "Iteration  151  ||mu1-mu0|| =  0.0027841343094539305  ||pi1-pi0|| =  0.00012620812155413587\n",
      "Iteration  152  ||mu1-mu0|| =  0.0026678456116728533  ||pi1-pi0|| =  0.00012039860267369603\n",
      "Iteration  153  ||mu1-mu0|| =  0.0025668687199549805  ||pi1-pi0|| =  0.00011475414055313885\n",
      "Iteration  154  ||mu1-mu0|| =  0.0024807871258274933  ||pi1-pi0|| =  0.00010941470132804132\n",
      "Iteration  155  ||mu1-mu0|| =  0.0024095504789312704  ||pi1-pi0|| =  0.00010445277840681718\n",
      "Iteration  156  ||mu1-mu0|| =  0.002353573037103166  ||pi1-pi0|| =  9.99018362806457e-05\n",
      "Iteration  157  ||mu1-mu0|| =  0.0023139009086681366  ||pi1-pi0|| =  9.577396987785527e-05\n",
      "Iteration  158  ||mu1-mu0|| =  0.0022924760151633973  ||pi1-pi0|| =  9.20713028041646e-05\n",
      "Iteration  159  ||mu1-mu0|| =  0.0022925554977995316  ||pi1-pi0|| =  8.879380572155617e-05\n",
      "Iteration  160  ||mu1-mu0|| =  0.002319394187425131  ||pi1-pi0|| =  8.594536027201624e-05\n",
      "Iteration  161  ||mu1-mu0|| =  0.0023813816693260205  ||pi1-pi0|| =  8.353991057307032e-05\n",
      "Iteration  162  ||mu1-mu0|| =  0.002491964722157848  ||pi1-pi0|| =  8.161108942456952e-05\n",
      "Iteration  163  ||mu1-mu0|| =  0.002672878538333785  ||pi1-pi0|| =  8.02343954164132e-05\n",
      "Iteration  164  ||mu1-mu0|| =  0.0029592885920055965  ||pi1-pi0|| =  7.958885670598518e-05\n",
      "Iteration  165  ||mu1-mu0|| =  0.003406335553519212  ||pi1-pi0|| =  8.013417220453073e-05\n",
      "Iteration  166  ||mu1-mu0|| =  0.004087624506155618  ||pi1-pi0|| =  8.305711454467737e-05\n",
      "Iteration  167  ||mu1-mu0|| =  0.005023073203531058  ||pi1-pi0|| =  9.081207786659847e-05\n",
      "Iteration  168  ||mu1-mu0|| =  0.005897446704882108  ||pi1-pi0|| =  0.00010610742515456915\n",
      "Iteration  169  ||mu1-mu0|| =  0.006167881680938029  ||pi1-pi0|| =  0.00013162553963650707\n",
      "Iteration  170  ||mu1-mu0|| =  0.0058949855286241975  ||pi1-pi0|| =  0.0001606056930253339\n",
      "Iteration  171  ||mu1-mu0|| =  0.005354819961731954  ||pi1-pi0|| =  0.0001765695089343055\n",
      "Iteration  172  ||mu1-mu0|| =  0.004698486879665096  ||pi1-pi0|| =  0.00017530063061115718\n",
      "Iteration  173  ||mu1-mu0|| =  0.004072224739122357  ||pi1-pi0|| =  0.00016182018523771264\n",
      "Iteration  174  ||mu1-mu0|| =  0.0035337032864947156  ||pi1-pi0|| =  0.00014135215355078743\n",
      "Iteration  175  ||mu1-mu0|| =  0.0031031665787019922  ||pi1-pi0|| =  0.00011643988824819272\n",
      "Iteration  176  ||mu1-mu0|| =  0.002775233263627958  ||pi1-pi0|| =  9.178010957206622e-05\n",
      "Iteration  177  ||mu1-mu0|| =  0.002347973624976647  ||pi1-pi0|| =  8.436028340859713e-05\n",
      "Iteration  178  ||mu1-mu0|| =  0.0030433268941505746  ||pi1-pi0|| =  0.00012992679422829483\n",
      "Iteration  179  ||mu1-mu0|| =  0.002281014478322697  ||pi1-pi0|| =  9.575049332608853e-05\n",
      "Iteration  180  ||mu1-mu0|| =  0.0018529449674378159  ||pi1-pi0|| =  7.42830256131391e-05\n",
      "Iteration  181  ||mu1-mu0|| =  0.0015495778264023113  ||pi1-pi0|| =  6.258689479282808e-05\n",
      "Iteration  182  ||mu1-mu0|| =  0.0013023901373812256  ||pi1-pi0|| =  5.313736629883672e-05\n",
      "Iteration  183  ||mu1-mu0|| =  0.0010968309923564514  ||pi1-pi0|| =  4.4971132825894686e-05\n"
     ]
    },
    {
     "name": "stdout",
     "output_type": "stream",
     "text": [
      "Iteration  184  ||mu1-mu0|| =  0.0009245261726769949  ||pi1-pi0|| =  3.790191732189557e-05\n",
      "Iteration  185  ||mu1-mu0|| =  0.0007795619968730998  ||pi1-pi0|| =  3.183997247893768e-05\n",
      "Iteration  186  ||mu1-mu0|| =  0.0006573851412321989  ||pi1-pi0|| =  2.6688851816070966e-05\n",
      "Iteration  187  ||mu1-mu0|| =  0.0005543314931045892  ||pi1-pi0|| =  2.2341313272650183e-05\n",
      "Iteration  188  ||mu1-mu0|| =  0.0004673819642380139  ||pi1-pi0|| =  1.86889189409764e-05\n",
      "Iteration  189  ||mu1-mu0|| =  0.0003940171853097565  ||pi1-pi0|| =  1.562958360488733e-05\n",
      "Iteration  190  ||mu1-mu0|| =  0.0003321206042202389  ||pi1-pi0|| =  1.3071517474129996e-05\n",
      "Iteration  191  ||mu1-mu0|| =  0.00027990787929866787  ||pi1-pi0|| =  1.0934568820289459e-05\n",
      "Iteration  192  ||mu1-mu0|| =  0.00023587237651745709  ||pi1-pi0|| =  9.15002836762244e-06\n",
      "Iteration  193  ||mu1-mu0|| =  0.00019883140729617352  ||pi1-pi0|| =  7.650151558011436e-06\n",
      "Iteration  194  ||mu1-mu0|| =  0.0004135292270048131  ||pi1-pi0|| =  6.927795297431908e-06\n",
      "Iteration  195  ||mu1-mu0|| =  0.0036518609452810256  ||pi1-pi0|| =  7.944083626956823e-05\n",
      "Iteration  196  ||mu1-mu0|| =  0.002063145274304824  ||pi1-pi0|| =  6.785460429028158e-05\n",
      "Iteration  197  ||mu1-mu0|| =  0.0008035819138156336  ||pi1-pi0|| =  3.759817291781695e-05\n",
      "Iteration  198  ||mu1-mu0|| =  0.0005028059727657052  ||pi1-pi0|| =  2.4140361788760896e-05\n",
      "Iteration  199  ||mu1-mu0|| =  0.00037440570464366006  ||pi1-pi0|| =  1.7167911295702985e-05\n",
      "Iteration  200  ||mu1-mu0|| =  0.0002972954305736162  ||pi1-pi0|| =  1.2913947920109536e-05\n",
      "Iteration  201  ||mu1-mu0|| =  0.00024312342444249532  ||pi1-pi0|| =  1.007033364827792e-05\n",
      "Iteration  202  ||mu1-mu0|| =  0.00020160177390523407  ||pi1-pi0|| =  8.043911399794409e-06\n",
      "Iteration  203  ||mu1-mu0|| =  0.00016825702065689988  ||pi1-pi0|| =  6.528669411468368e-06\n",
      "Iteration  204  ||mu1-mu0|| =  0.0001408399997048296  ||pi1-pi0|| =  5.354928676139503e-06\n",
      "Iteration  205  ||mu1-mu0|| =  0.00011803883774273214  ||pi1-pi0|| =  4.422740506433427e-06\n",
      "Iteration  206  ||mu1-mu0|| =  9.897632453591437e-05  ||pi1-pi0|| =  3.669579935470875e-06\n",
      "Iteration  207  ||mu1-mu0|| =  8.300279044295232e-05  ||pi1-pi0|| =  3.053953984122658e-06\n",
      "Iteration  208  ||mu1-mu0|| =  6.960565091900311e-05  ||pi1-pi0|| =  2.5467977143587763e-06\n",
      "Iteration  209  ||mu1-mu0|| =  5.836640820830696e-05  ||pi1-pi0|| =  2.1267953599635486e-06\n",
      "Iteration  210  ||mu1-mu0|| =  4.893758374095632e-05  ||pi1-pi0|| =  1.7777319600142046e-06\n",
      "Iteration  211  ||mu1-mu0|| =  4.1028452024086e-05  ||pi1-pi0|| =  1.4869258324924796e-06\n",
      "Iteration  212  ||mu1-mu0|| =  3.4395007672858895e-05  ||pi1-pi0|| =  1.2442551895702364e-06\n",
      "Iteration  213  ||mu1-mu0|| =  2.883224527134672e-05  ||pi1-pi0|| =  1.0415232971721967e-06\n",
      "Iteration  214  ||mu1-mu0|| =  2.4167905674148098e-05  ||pi1-pi0|| =  8.720242168878077e-07\n",
      "Iteration  215  ||mu1-mu0|| =  2.0257280314152904e-05  ||pi1-pi0|| =  7.302324739695086e-07\n",
      "Iteration  216  ||mu1-mu0|| =  1.69788474796668e-05  ||pi1-pi0|| =  6.115727441880719e-07\n",
      "Iteration  217  ||mu1-mu0|| =  1.4230592709908314e-05  ||pi1-pi0|| =  5.122435131852831e-07\n",
      "Iteration  218  ||mu1-mu0|| =  1.1926904091317889e-05  ||pi1-pi0|| =  4.2907873509202324e-07\n",
      "Iteration  219  ||mu1-mu0|| =  9.9959537587869e-06  ||pi1-pi0|| =  3.5943728188731104e-07\n"
     ]
    },
    {
     "data": {
      "text/plain": [
       "<matplotlib.image.AxesImage at 0x129e5f160>"
      ]
     },
     "execution_count": 150,
     "metadata": {},
     "output_type": "execute_result"
    },
    {
     "data": {
      "image/png": "[encoded data removed]",
      "text/plain": [
       "<Figure size 432x288 with 4 Axes>"
      ]
     },
     "metadata": {},
     "output_type": "display_data"
    }
   ],
   "source": [
    "K = 4\n",
    "indices = np.where((train_labels >=2) & (train_labels <=4))\n",
    "X = bin_train_data[indices]\n",
    "gamma, mu, pi = EM(X, K, max_iter = 1000, mu=None, pi=None)\n",
    "\n",
    "f = plt.figure()\n",
    "f.add_subplot(1, 4, 1)\n",
    "plt.imshow(mu[0].reshape(28, 28), cmap='Greys')\n",
    "f.add_subplot(1, 4, 2) \n",
    "plt.imshow(mu[1].reshape(28, 28), cmap='Greys')\n",
    "f.add_subplot(1, 4, 3)\n",
    "plt.imshow(mu[2].reshape(28, 28), cmap='Greys')\n",
    "f.add_subplot(1, 4, 4) \n",
    "plt.imshow(mu[3].reshape(28, 28), cmap='Greys')"
   ]
  },
  {
   "cell_type": "code",
   "execution_count": 151,
   "metadata": {
    "scrolled": true
   },
   "outputs": [
    {
     "name": "stdout",
     "output_type": "stream",
     "text": [
      "Iteration  0  ||mu1-mu0|| =  26.71339525146601  ||pi1-pi0|| =  0.4458988157028818\n",
      "Iteration  1  ||mu1-mu0|| =  4.257368523347123  ||pi1-pi0|| =  0.3563544797713248\n",
      "Iteration  2  ||mu1-mu0|| =  1.1501043564012152  ||pi1-pi0|| =  0.03889941618321261\n",
      "Iteration  3  ||mu1-mu0|| =  0.5845283295441123  ||pi1-pi0|| =  0.010139361189836741\n",
      "Iteration  4  ||mu1-mu0|| =  0.4955902502480529  ||pi1-pi0|| =  0.0061764099060585805\n",
      "Iteration  5  ||mu1-mu0|| =  0.47720815838637937  ||pi1-pi0|| =  0.008820872120627637\n",
      "Iteration  6  ||mu1-mu0|| =  0.4207899565190225  ||pi1-pi0|| =  0.009210566459073513\n",
      "Iteration  7  ||mu1-mu0|| =  0.35322596746658397  ||pi1-pi0|| =  0.007867493729069834\n",
      "Iteration  8  ||mu1-mu0|| =  0.3037445372305573  ||pi1-pi0|| =  0.008110882464522387\n",
      "Iteration  9  ||mu1-mu0|| =  0.2445098890743878  ||pi1-pi0|| =  0.006858062198314332\n",
      "Iteration  10  ||mu1-mu0|| =  0.19020832882413033  ||pi1-pi0|| =  0.005512157494996936\n",
      "Iteration  11  ||mu1-mu0|| =  0.13265834880638516  ||pi1-pi0|| =  0.003951137609170511\n",
      "Iteration  12  ||mu1-mu0|| =  0.09000549499214033  ||pi1-pi0|| =  0.0029798946738855137\n",
      "Iteration  13  ||mu1-mu0|| =  0.06939123440205469  ||pi1-pi0|| =  0.0024453050290197333\n",
      "Iteration  14  ||mu1-mu0|| =  0.05341116791206277  ||pi1-pi0|| =  0.0018846138310356342\n",
      "Iteration  15  ||mu1-mu0|| =  0.04174959096188741  ||pi1-pi0|| =  0.0015360174077840537\n",
      "Iteration  16  ||mu1-mu0|| =  0.031672356276176886  ||pi1-pi0|| =  0.0012479816219923916\n",
      "Iteration  17  ||mu1-mu0|| =  0.025756842977652634  ||pi1-pi0|| =  0.0009517597757312426\n",
      "Iteration  18  ||mu1-mu0|| =  0.021571812849244514  ||pi1-pi0|| =  0.0007963809667001577\n",
      "Iteration  19  ||mu1-mu0|| =  0.015415274449546839  ||pi1-pi0|| =  0.0005988234839717009\n",
      "Iteration  20  ||mu1-mu0|| =  0.012584478684867693  ||pi1-pi0|| =  0.0004909483590610813\n",
      "Iteration  21  ||mu1-mu0|| =  0.00936614514588928  ||pi1-pi0|| =  0.00038806944363260987\n",
      "Iteration  22  ||mu1-mu0|| =  0.00744205409974527  ||pi1-pi0|| =  0.0003380584413095287\n",
      "Iteration  23  ||mu1-mu0|| =  0.010987863683312445  ||pi1-pi0|| =  0.0004553320736265365\n",
      "Iteration  24  ||mu1-mu0|| =  0.008785396094723426  ||pi1-pi0|| =  0.0003943557712629293\n",
      "Iteration  25  ||mu1-mu0|| =  0.007350156941466589  ||pi1-pi0|| =  0.0002992349989325584\n",
      "Iteration  26  ||mu1-mu0|| =  0.0060781292463546405  ||pi1-pi0|| =  0.0002602436649036634\n",
      "Iteration  27  ||mu1-mu0|| =  0.004131675102791653  ||pi1-pi0|| =  0.00020891583224703558\n",
      "Iteration  28  ||mu1-mu0|| =  0.004937921013212674  ||pi1-pi0|| =  0.0001825960265618539\n",
      "Iteration  29  ||mu1-mu0|| =  0.0031652457285635204  ||pi1-pi0|| =  0.00015263115134206607\n",
      "Iteration  30  ||mu1-mu0|| =  0.002562662717893434  ||pi1-pi0|| =  0.00013114420820173624\n",
      "Iteration  31  ||mu1-mu0|| =  0.0021331416133085943  ||pi1-pi0|| =  0.00011295741140860464\n",
      "Iteration  32  ||mu1-mu0|| =  0.0018026186042432622  ||pi1-pi0|| =  9.75427900304197e-05\n",
      "Iteration  33  ||mu1-mu0|| =  0.0015525438592248369  ||pi1-pi0|| =  8.412862112919576e-05\n",
      "Iteration  34  ||mu1-mu0|| =  0.0018061299297039107  ||pi1-pi0|| =  7.839185865170291e-05\n",
      "Iteration  35  ||mu1-mu0|| =  0.0016959752498987648  ||pi1-pi0|| =  7.331157187614987e-05\n",
      "Iteration  36  ||mu1-mu0|| =  0.0010705156422709443  ||pi1-pi0|| =  5.7251736181420144e-05\n",
      "Iteration  37  ||mu1-mu0|| =  0.0008649181043270337  ||pi1-pi0|| =  4.8351466237243e-05\n",
      "Iteration  38  ||mu1-mu0|| =  0.0007439105673000192  ||pi1-pi0|| =  4.2052544252721155e-05\n",
      "Iteration  39  ||mu1-mu0|| =  0.0006493944443745532  ||pi1-pi0|| =  3.68617031321435e-05\n",
      "Iteration  40  ||mu1-mu0|| =  0.0005699925412862319  ||pi1-pi0|| =  3.2404422635952524e-05\n",
      "Iteration  41  ||mu1-mu0|| =  0.0005017459491788419  ||pi1-pi0|| =  2.853331997597006e-05\n",
      "Iteration  42  ||mu1-mu0|| =  0.0004425287676144551  ||pi1-pi0|| =  2.5157797359008196e-05\n",
      "Iteration  43  ||mu1-mu0|| =  0.00039088233881664597  ||pi1-pi0|| =  2.220769776321642e-05\n",
      "Iteration  44  ||mu1-mu0|| =  0.0003456853493217986  ||pi1-pi0|| =  1.9624569159156573e-05\n",
      "Iteration  45  ||mu1-mu0|| =  0.0003060306396148487  ||pi1-pi0|| =  1.735882580935785e-05\n",
      "Iteration  46  ||mu1-mu0|| =  0.00027116589389366506  ||pi1-pi0|| =  1.5368196142971452e-05\n",
      "Iteration  47  ||mu1-mu0|| =  0.0030285372788036104  ||pi1-pi0|| =  7.859691953259345e-05\n",
      "Iteration  48  ||mu1-mu0|| =  0.000741707596881644  ||pi1-pi0|| =  3.761203117723018e-05\n",
      "Iteration  49  ||mu1-mu0|| =  0.0003950073869951083  ||pi1-pi0|| =  2.0179008228491477e-05\n",
      "Iteration  50  ||mu1-mu0|| =  0.00331392393758848  ||pi1-pi0|| =  6.144329285553079e-05\n",
      "Iteration  51  ||mu1-mu0|| =  0.0016426931340891631  ||pi1-pi0|| =  4.385812097731013e-05\n",
      "Iteration  52  ||mu1-mu0|| =  0.000980714892754253  ||pi1-pi0|| =  3.258415434838993e-05\n",
      "Iteration  53  ||mu1-mu0|| =  0.0007211526560947106  ||pi1-pi0|| =  2.5102027913433956e-05\n",
      "Iteration  54  ||mu1-mu0|| =  0.0005494606022455887  ||pi1-pi0|| =  1.9650516107239848e-05\n",
      "Iteration  55  ||mu1-mu0|| =  0.0004240519784636997  ||pi1-pi0|| =  1.5574614070203378e-05\n",
      "Iteration  56  ||mu1-mu0|| =  0.00033002524871041653  ||pi1-pi0|| =  1.2502875852064716e-05\n",
      "Iteration  57  ||mu1-mu0|| =  0.00025875244443413143  ||pi1-pi0|| =  1.0159182165719089e-05\n",
      "Iteration  58  ||mu1-mu0|| =  0.00020648761523479588  ||pi1-pi0|| =  8.232837005729012e-06\n",
      "Iteration  59  ||mu1-mu0|| =  0.0005788751258927005  ||pi1-pi0|| =  1.3600319028717564e-05\n",
      "Iteration  60  ||mu1-mu0|| =  0.0020867991285743897  ||pi1-pi0|| =  5.038521773364834e-05\n",
      "Iteration  61  ||mu1-mu0|| =  0.001175500572204442  ||pi1-pi0|| =  4.1500215061555084e-05\n",
      "Iteration  62  ||mu1-mu0|| =  0.0004812424157287035  ||pi1-pi0|| =  2.354813306739399e-05\n",
      "Iteration  63  ||mu1-mu0|| =  0.00024844127789855553  ||pi1-pi0|| =  1.3971312486410651e-05\n",
      "Iteration  64  ||mu1-mu0|| =  0.00014756324320534762  ||pi1-pi0|| =  8.907370374082086e-06\n",
      "Iteration  65  ||mu1-mu0|| =  9.867278564904173e-05  ||pi1-pi0|| =  6.093628893396903e-06\n",
      "Iteration  66  ||mu1-mu0|| =  7.2919906725005e-05  ||pi1-pi0|| =  4.469332028919675e-06\n",
      "Iteration  67  ||mu1-mu0|| =  5.8013643596588744e-05  ||pi1-pi0|| =  3.4874562143085485e-06\n",
      "Iteration  68  ||mu1-mu0|| =  4.8385450185653274e-05  ||pi1-pi0|| =  2.837781291262224e-06\n",
      "Iteration  69  ||mu1-mu0|| =  0.00013848197875602423  ||pi1-pi0|| =  2.053378893592182e-06\n",
      "Iteration  70  ||mu1-mu0|| =  0.003094828363679729  ||pi1-pi0|| =  5.937936135216125e-05\n",
      "Iteration  71  ||mu1-mu0|| =  0.0013617135696347236  ||pi1-pi0|| =  3.4274902840482894e-05\n",
      "Iteration  72  ||mu1-mu0|| =  0.0006213012079907181  ||pi1-pi0|| =  1.580645901046758e-05\n",
      "Iteration  73  ||mu1-mu0|| =  0.0003753890826648643  ||pi1-pi0|| =  8.789734253662888e-06\n",
      "Iteration  74  ||mu1-mu0|| =  0.00025511828284419065  ||pi1-pi0|| =  6.153383683395111e-06\n",
      "Iteration  75  ||mu1-mu0|| =  0.0001874891789282322  ||pi1-pi0|| =  5.0784683517333025e-06\n",
      "Iteration  76  ||mu1-mu0|| =  0.00014445055490085206  ||pi1-pi0|| =  4.478804981508986e-06\n",
      "Iteration  77  ||mu1-mu0|| =  0.00011495784384334874  ||pi1-pi0|| =  4.050089762715223e-06\n",
      "Iteration  78  ||mu1-mu0|| =  9.412758086228031e-05  ||pi1-pi0|| =  3.680727399623209e-06\n",
      "Iteration  79  ||mu1-mu0|| =  9.211135562984537e-05  ||pi1-pi0|| =  3.303061077188599e-06\n",
      "Iteration  80  ||mu1-mu0|| =  0.0006043670216234487  ||pi1-pi0|| =  1.5684859822781083e-05\n",
      "Iteration  81  ||mu1-mu0|| =  0.0018818523056813264  ||pi1-pi0|| =  5.225023643260627e-05\n",
      "Iteration  82  ||mu1-mu0|| =  0.0009247639116291571  ||pi1-pi0|| =  3.228306281209328e-05\n",
      "Iteration  83  ||mu1-mu0|| =  0.0004219393013285087  ||pi1-pi0|| =  1.352323708899301e-05\n",
      "Iteration  84  ||mu1-mu0|| =  0.0002359115157512792  ||pi1-pi0|| =  5.931854565931503e-06\n",
      "Iteration  85  ||mu1-mu0|| =  0.0001473276613682378  ||pi1-pi0|| =  3.5380403758064417e-06\n",
      "Iteration  86  ||mu1-mu0|| =  9.869007509717249e-05  ||pi1-pi0|| =  2.7432846644508645e-06\n",
      "Iteration  87  ||mu1-mu0|| =  6.94202396365812e-05  ||pi1-pi0|| =  2.274100858911636e-06\n",
      "Iteration  88  ||mu1-mu0|| =  5.0809332075830254e-05  ||pi1-pi0|| =  1.9043257793642961e-06\n",
      "Iteration  89  ||mu1-mu0|| =  3.856733134816893e-05  ||pi1-pi0|| =  1.608326009973758e-06\n",
      "Iteration  90  ||mu1-mu0|| =  3.0299212522376168e-05  ||pi1-pi0|| =  1.3743251322050495e-06\n",
      "Iteration  91  ||mu1-mu0|| =  2.4556389879757754e-05  ||pi1-pi0|| =  1.1881265135088811e-06\n"
     ]
    },
    {
     "name": "stdout",
     "output_type": "stream",
     "text": [
      "Iteration  92  ||mu1-mu0|| =  2.043098919467193e-05  ||pi1-pi0|| =  1.0368775514889931e-06\n",
      "Iteration  93  ||mu1-mu0|| =  1.7351121794441225e-05  ||pi1-pi0|| =  9.110067147326023e-07\n",
      "Iteration  94  ||mu1-mu0|| =  1.495952674645964e-05  ||pi1-pi0|| =  8.040221248620432e-07\n",
      "Iteration  95  ||mu1-mu0|| =  1.3034804103899747e-05  ||pi1-pi0|| =  7.116485021777732e-07\n",
      "Iteration  96  ||mu1-mu0|| =  1.1439668339853395e-05  ||pi1-pi0|| =  6.310314363420754e-07\n",
      "Iteration  97  ||mu1-mu0|| =  1.0087880843713641e-05  ||pi1-pi0|| =  5.601851241778398e-07\n",
      "Iteration  98  ||mu1-mu0|| =  8.923840751565446e-06  ||pi1-pi0|| =  4.976522855620526e-07\n"
     ]
    },
    {
     "data": {
      "text/plain": [
       "<matplotlib.image.AxesImage at 0x136107358>"
      ]
     },
     "execution_count": 151,
     "metadata": {},
     "output_type": "execute_result"
    },
    {
     "data": {
      "image/png": "[encoded data removed]",
      "text/plain": [
       "<Figure size 432x288 with 5 Axes>"
      ]
     },
     "metadata": {},
     "output_type": "display_data"
    }
   ],
   "source": [
    "K = 5\n",
    "indices = np.where((train_labels >=2) & (train_labels <=4))\n",
    "X = bin_train_data[indices]\n",
    "gamma, mu, pi = EM(X, K, max_iter = 1000, mu=None, pi=None)\n",
    "\n",
    "f = plt.figure()\n",
    "f.add_subplot(1, 5, 1)\n",
    "plt.imshow(mu[0].reshape(28, 28), cmap='Greys')\n",
    "f.add_subplot(1, 5, 2) \n",
    "plt.imshow(mu[1].reshape(28, 28), cmap='Greys')\n",
    "f.add_subplot(1, 5, 3)\n",
    "plt.imshow(mu[2].reshape(28, 28), cmap='Greys')\n",
    "f.add_subplot(1, 5, 4) \n",
    "plt.imshow(mu[3].reshape(28, 28), cmap='Greys')\n",
    "f.add_subplot(1, 5, 5) \n",
    "plt.imshow(mu[4].reshape(28, 28), cmap='Greys')"
   ]
  },
  {
   "cell_type": "markdown",
   "metadata": {
    "deletable": false,
    "nbgrader": {
     "cell_type": "markdown",
     "checksum": "e12e40c2d2165e3bb500b5504128910d",
     "grade": true,
     "grade_id": "cell-f01c37653160244b",
     "locked": false,
     "points": 3,
     "schema_version": 3,
     "solution": true
    }
   },
   "source": [
    "YOUR ANSWER HERE\n",
    "\n",
    "When model is run with smaller K, we observe that cluster means does not represent particluar digits, but tries to aggregate features from multiple digits into one cluster. Interestingly, when run with K=2 model discriminates between 4 and 2,3. This again could be explained by similar patterns in digits 2 and 3. \n",
    "\n",
    "When I run model with K>3, obtained cluster means repeatedly represents some of the digits, which proves that K>3 is redundant to model this data. \n"
   ]
  },
  {
   "cell_type": "markdown",
   "metadata": {
    "deletable": false,
    "editable": false,
    "nbgrader": {
     "cell_type": "markdown",
     "checksum": "b306681523a2e35eea310ac10bb68999",
     "grade": false,
     "grade_id": "cell-cf478d67239b7f2e",
     "locked": true,
     "schema_version": 3,
     "solution": false
    }
   },
   "source": [
    "#### 1.4.2 Identify misclassifications (10 points)\n",
    "How can you use the data labels to assign a label to each of the clusters/latent variables? Use this to identify images that are 'misclassified' and try to understand why they are. Report your findings."
   ]
  },
  {
   "cell_type": "code",
   "execution_count": 152,
   "metadata": {
    "deletable": false,
    "nbgrader": {
     "cell_type": "code",
     "checksum": "000c11bd8756a4e24296c7c55d3ee17e",
     "grade": true,
     "grade_id": "cell-daa1a492fbba5c7e",
     "locked": false,
     "points": 5,
     "schema_version": 3,
     "solution": true
    }
   },
   "outputs": [],
   "source": [
    "# YOUR CODE HERE\n",
    "#raise NotImplementedError()\n"
   ]
  },
  {
   "cell_type": "code",
   "execution_count": 137,
   "metadata": {},
   "outputs": [],
   "source": [
    "dic = {0:3, 1:2, 2:4}"
   ]
  },
  {
   "cell_type": "code",
   "execution_count": 138,
   "metadata": {},
   "outputs": [],
   "source": [
    "def replace_with_dict2_generic(ar, dic, assume_all_present=True):\n",
    "    '''\n",
    "    taken from\n",
    "    https://stackoverflow.com/questions/47171356/replace-values-in-numpy-array-based-on-dictionary-and-avoid-overlap-between-new\n",
    "    '''\n",
    "    # Extract out keys and values\n",
    "    k = np.array(list(dic.keys()))\n",
    "    v = np.array(list(dic.values()))\n",
    "\n",
    "    # Get argsort indices\n",
    "    sidx = k.argsort()\n",
    "\n",
    "    ks = k[sidx]\n",
    "    vs = v[sidx]\n",
    "    idx = np.searchsorted(ks,ar)\n",
    "\n",
    "    if assume_all_present==0:\n",
    "        idx[idx==len(vs)] = 0\n",
    "        mask = ks[idx] == ar\n",
    "        return np.where(mask, vs[idx], ar)\n",
    "    else:\n",
    "        return vs[idx]"
   ]
  },
  {
   "cell_type": "code",
   "execution_count": 139,
   "metadata": {},
   "outputs": [
    {
     "name": "stdout",
     "output_type": "stream",
     "text": [
      "1718 out of  17931  images are misclassified.\n",
      "2  is missclassified  885  times. \n",
      "3  is missclassified  756  times. \n",
      "4  is missclassified  77  times. \n"
     ]
    }
   ],
   "source": [
    "true_labels = train_labels[(train_labels>=2) & (train_labels <=4)]\n",
    "pred_labels_ = np.argmax(gamma, 1)\n",
    "pred_labels = replace_with_dict2_generic(pred_labels_, dic, assume_all_present=True)\n",
    "misclassified_indices = (true_labels!=pred_labels)\n",
    "misclassified_X = X[misclassified_indices]\n",
    "misclassified_pred = pred_labels[misclassified_indices]\n",
    "misclassified_true = true_labels[misclassified_indices]\n",
    "print(misclassified_X.shape[0], 'out of ', X.shape[0],' images are misclassified.')\n",
    "unique, counts = numpy.unique(misclassified_true, return_counts=True)\n",
    "misclassified_dict = dict(zip(unique, counts))\n",
    "for i in misclassified_dict:\n",
    "    print(i, ' is missclassified ', misclassified_dict[i], ' times. ')"
   ]
  },
  {
   "cell_type": "code",
   "execution_count": 140,
   "metadata": {},
   "outputs": [
    {
     "data": {
      "image/png": "[encoded data removed]",
      "text/plain": [
       "<Figure size 2160x1440 with 4 Axes>"
      ]
     },
     "metadata": {},
     "output_type": "display_data"
    }
   ],
   "source": [
    "N_samples = 4\n",
    "\n",
    "misclassified_2_indices = np.where(misclassified_true == 2)[0]\n",
    "sample_ind2 = random.randint(0,misclassified_2_indices.shape[0], N_samples)\n",
    "sample_ind = misclassified_2_indices[sample_ind2]\n",
    "\n",
    "f = plt.figure(figsize=(30,20))\n",
    "plt.subplots_adjust(bottom=.05, top=.95, hspace=.1)\n",
    "for i in range(N_samples):\n",
    "    f.add_subplot(i//10 + 1, N_samples, i+1)\n",
    "    plt.imshow(misclassified_X[sample_ind[i]].reshape(28, 28), cmap='Greys')\n",
    "    text = str(misclassified_true[sample_ind[i]])+ ' classified as '+ str(misclassified_pred[sample_ind[i]])\n",
    "    plt.title(text)"
   ]
  },
  {
   "cell_type": "code",
   "execution_count": 141,
   "metadata": {},
   "outputs": [
    {
     "data": {
      "image/png": "[encoded data removed]",
      "text/plain": [
       "<Figure size 2160x1440 with 4 Axes>"
      ]
     },
     "metadata": {},
     "output_type": "display_data"
    }
   ],
   "source": [
    "N_samples = 4\n",
    "\n",
    "\n",
    "misclassified_3_indices = np.where(misclassified_true == 3)[0]\n",
    "sample_ind3 = random.randint(0,misclassified_3_indices.shape[0], N_samples)\n",
    "sample_ind = misclassified_3_indices[sample_ind3]\n",
    "\n",
    "f = plt.figure(figsize=(30,20))\n",
    "plt.subplots_adjust(bottom=.05, top=.95, hspace=.1)\n",
    "for i in range(N_samples):\n",
    "    f.add_subplot(i//10 + 1, N_samples, i+1)\n",
    "    plt.imshow(misclassified_X[sample_ind[i]].reshape(28, 28), cmap='Greys')\n",
    "    text = str(misclassified_true[sample_ind[i]])+ ' classified as '+ str(misclassified_pred[sample_ind[i]])\n",
    "    plt.title(text)"
   ]
  },
  {
   "cell_type": "code",
   "execution_count": 142,
   "metadata": {},
   "outputs": [
    {
     "data": {
      "image/png": "[encoded data removed]",
      "text/plain": [
       "<Figure size 2160x1440 with 4 Axes>"
      ]
     },
     "metadata": {},
     "output_type": "display_data"
    }
   ],
   "source": [
    "N_samples = 4\n",
    "\n",
    "misclassified_4_indices = np.where(misclassified_true == 4)[0]\n",
    "sample_ind4 = random.randint(0,misclassified_4_indices.shape[0], N_samples)\n",
    "sample_ind = misclassified_4_indices[sample_ind4]\n",
    "\n",
    "f = plt.figure(figsize=(30,20))\n",
    "plt.subplots_adjust(bottom=.05, top=.95, hspace=.1)\n",
    "for i in range(N_samples):\n",
    "    f.add_subplot(i//10 + 1, N_samples, i+1)\n",
    "    plt.imshow(misclassified_X[sample_ind[i]].reshape(28, 28), cmap='Greys')\n",
    "    text = str(misclassified_true[sample_ind[i]])+ ' classified as '+ str(misclassified_pred[sample_ind[i]])\n",
    "    plt.title(text)"
   ]
  },
  {
   "cell_type": "markdown",
   "metadata": {
    "deletable": false,
    "nbgrader": {
     "cell_type": "markdown",
     "checksum": "baf43434481c13d76ad51e3ba07e2bf5",
     "grade": true,
     "grade_id": "cell-329245c02df7850d",
     "locked": false,
     "points": 5,
     "schema_version": 3,
     "solution": true
    }
   },
   "source": [
    "YOUR ANSWER HERE\n",
    "\n",
    "To assign label to the image, we look at the gamma coeffients, a vector with responsibilities that an image corresponds to a particular cluster, so we assign cluster with highest reponsibility:\n",
    "$$label = argmax_{i}(\\gamma_2, \\gamma_3, \\gamma_4)$$ We also can assign labels by identifiyng the nearest cluster mean by using $l2-norm$. \n",
    "\n",
    "\n",
    "2 and 3 missclafied most often, I hypothesize that it happens because these digits have similar curves and indeed resemble each other, while 4 has quite distinct lines and probably easier to discern among present digits. Also if we look at arbitrarily chosen missclassified images, we see that some of them are written not clearly and sometimes it is impossible to guess which digit is written even for human."
   ]
  },
  {
   "cell_type": "markdown",
   "metadata": {
    "deletable": false,
    "editable": false,
    "nbgrader": {
     "cell_type": "markdown",
     "checksum": "640bc57a2d08c3becf534bb5e4b35971",
     "grade": false,
     "grade_id": "cell-67ce1222e8a7837b",
     "locked": true,
     "schema_version": 3,
     "solution": false
    }
   },
   "source": [
    "#### 1.4.3 Initialize with true values (5 points)\n",
    "Initialize the three classes with the true values of the parameters and see what happens. Report your results."
   ]
  },
  {
   "cell_type": "code",
   "execution_count": 143,
   "metadata": {},
   "outputs": [],
   "source": [
    "mu_real2 = np.mean(bin_train_data[np.where(train_labels ==2)], 0)\n",
    "mu_real3 = np.mean(bin_train_data[np.where(train_labels ==3)], 0)\n",
    "mu_real4 = np.mean(bin_train_data[np.where(train_labels ==4)], 0)\n",
    "mu_real = np.array([pi_real2, pi_real3, pi_real4])\n",
    "\n",
    "ind2 = len(np.where(train_labels ==2)[0])\n",
    "ind2 /= len(indices[0])\n",
    "ind3 = len(np.where(train_labels == 3)[0])\n",
    "ind3 /= len(indices[0])\n",
    "ind4 = len(np.where(train_labels == 4)[0])\n",
    "ind4 /= len(indices[0])\n",
    "pi_real = np.array([ind2, ind3, ind4])\n"
   ]
  },
  {
   "cell_type": "code",
   "execution_count": 144,
   "metadata": {
    "deletable": false,
    "nbgrader": {
     "cell_type": "code",
     "checksum": "a48f788e286458ef0f776865a3bcd58b",
     "grade": true,
     "grade_id": "cell-aa5d6b9f941d985d",
     "locked": false,
     "points": 2,
     "schema_version": 3,
     "solution": true
    }
   },
   "outputs": [
    {
     "name": "stdout",
     "output_type": "stream",
     "text": [
      "Iteration  0  ||mu1-mu0|| =  0.45849699109256514  ||pi1-pi0|| =  0.017516958992891428\n",
      "Iteration  1  ||mu1-mu0|| =  0.1633501029568555  ||pi1-pi0|| =  0.005212376538528878\n",
      "Iteration  2  ||mu1-mu0|| =  0.08819779438032997  ||pi1-pi0|| =  0.0017159886405431863\n",
      "Iteration  3  ||mu1-mu0|| =  0.04571291143637877  ||pi1-pi0|| =  0.0008666190597328344\n",
      "Iteration  4  ||mu1-mu0|| =  0.023703764235154263  ||pi1-pi0|| =  0.00047176749346522327\n",
      "Iteration  5  ||mu1-mu0|| =  0.012361390967112253  ||pi1-pi0|| =  0.0002355330531225217\n",
      "Iteration  6  ||mu1-mu0|| =  0.006571960939865155  ||pi1-pi0|| =  0.00012986109017584956\n",
      "Iteration  7  ||mu1-mu0|| =  0.0035380104021702804  ||pi1-pi0|| =  7.674059300841668e-05\n",
      "Iteration  8  ||mu1-mu0|| =  0.0018647406549309616  ||pi1-pi0|| =  4.2725988661193625e-05\n",
      "Iteration  9  ||mu1-mu0|| =  0.0009817982278108833  ||pi1-pi0|| =  2.434377297409398e-05\n",
      "Iteration  10  ||mu1-mu0|| =  0.0005206659573903278  ||pi1-pi0|| =  1.4321626551103142e-05\n",
      "Iteration  11  ||mu1-mu0|| =  0.0002773006304537355  ||pi1-pi0|| =  8.443108452102459e-06\n",
      "Iteration  12  ||mu1-mu0|| =  0.00014823195545083612  ||pi1-pi0|| =  4.965591422067297e-06\n",
      "Iteration  13  ||mu1-mu0|| =  7.9522956538513e-05  ||pi1-pi0|| =  2.914348740614664e-06\n",
      "Iteration  14  ||mu1-mu0|| =  4.28217739025535e-05  ||pi1-pi0|| =  1.7087045632188845e-06\n",
      "Iteration  15  ||mu1-mu0|| =  2.3152028657548924e-05  ||pi1-pi0|| =  1.0017944483757348e-06\n",
      "Iteration  16  ||mu1-mu0|| =  1.2573261878739432e-05  ||pi1-pi0|| =  5.877819715695707e-07\n",
      "Iteration  17  ||mu1-mu0|| =  6.862133559688838e-06  ||pi1-pi0|| =  3.453181459698974e-07\n"
     ]
    }
   ],
   "source": [
    "# YOUR CODE HERE\n",
    "#raise NotImplementedError()\n",
    "\n",
    "K = 3\n",
    "indices = np.where((train_labels >=2) & (train_labels <=4))\n",
    "X = bin_train_data[indices]\n",
    "\n",
    "gamma_init, mu_init, pi_init = EM(X, K, max_iter = 1000, mu=mu_real, pi=pi_real)"
   ]
  },
  {
   "cell_type": "code",
   "execution_count": 145,
   "metadata": {},
   "outputs": [
    {
     "data": {
      "image/png": "[encoded data removed]",
      "text/plain": [
       "<Figure size 432x288 with 3 Axes>"
      ]
     },
     "metadata": {},
     "output_type": "display_data"
    }
   ],
   "source": [
    "f = plt.figure()\n",
    "f.add_subplot(1, 3, 1)\n",
    "plt.imshow(mu_init[0].reshape(28, 28), cmap='Greys')\n",
    "f.add_subplot(1, 3, 2) \n",
    "plt.imshow(mu_init[1].reshape(28, 28), cmap='Greys')\n",
    "f.add_subplot(1, 3, 3) \n",
    "plt.imshow(mu_init[2].reshape(28, 28), cmap='Greys');"
   ]
  },
  {
   "cell_type": "code",
   "execution_count": 146,
   "metadata": {},
   "outputs": [],
   "source": [
    "dic = {0:2, 1:3, 2:4}"
   ]
  },
  {
   "cell_type": "code",
   "execution_count": 147,
   "metadata": {},
   "outputs": [
    {
     "name": "stdout",
     "output_type": "stream",
     "text": [
      "1586 out of  17931  images are misclassified.\n",
      "2  is missclassified  773  times. \n",
      "3  is missclassified  731  times. \n",
      "4  is missclassified  82  times. \n"
     ]
    }
   ],
   "source": [
    "true_labels = train_labels[(train_labels>=2) & (train_labels <=4)]\n",
    "pred_labels_ = np.argmax(gamma_init, 1)\n",
    "pred_labels = replace_with_dict2_generic(pred_labels_, dic, assume_all_present=True)\n",
    "misclassified_indices = (true_labels!=pred_labels)\n",
    "misclassified_X = X[misclassified_indices]\n",
    "misclassified_pred = pred_labels[misclassified_indices]\n",
    "misclassified_true = true_labels[misclassified_indices]\n",
    "print(misclassified_X.shape[0], 'out of ', X.shape[0],' images are misclassified.')\n",
    "unique, counts = numpy.unique(misclassified_true, return_counts=True)\n",
    "misclassified_dict = dict(zip(unique, counts))\n",
    "for i in misclassified_dict:\n",
    "    print(i, ' is missclassified ', misclassified_dict[i], ' times. ')"
   ]
  },
  {
   "cell_type": "markdown",
   "metadata": {
    "deletable": false,
    "nbgrader": {
     "cell_type": "markdown",
     "checksum": "1dc4adf3081f3bec93f94c3b12b87db9",
     "grade": true,
     "grade_id": "cell-981e44f35a3764b0",
     "locked": false,
     "points": 3,
     "schema_version": 3,
     "solution": true
    }
   },
   "source": [
    "YOUR ANSWER HERE\n",
    "\n",
    "\n",
    "When initialised with real values, we see that the norm of change in parameter values is already low on the initial stages of training and the algorithm converges faster. We also see that more images are classified correctly. \n",
    "\n",
    "So we can conclude that in more complex tasks, e.g. when we have more clusters, good initilisation has positive effect on the convergence."
   ]
  },
  {
   "cell_type": "markdown",
   "metadata": {
    "deletable": false,
    "editable": false,
    "nbgrader": {
     "cell_type": "markdown",
     "checksum": "bd613f41e5d2b7d22b0d5b1e7644a48a",
     "grade": false,
     "grade_id": "cell-19bfd7cf4017ed84",
     "locked": true,
     "schema_version": 3,
     "solution": false
    }
   },
   "source": [
    "## Part 2: Variational Auto-Encoder\n",
    "\n",
    "A Variational Auto-Encoder (VAE) is a probabilistic model $p(\\bx, \\bz)$ over observed variables $\\bx$ and latent variables and/or parameters $\\bz$. Here we distinguish the decoder part, $p(\\bx | \\bz) p(\\bz)$ and an encoder part $p(\\bz | \\bx)$ that are both specified with a neural network. A lower bound on the log marginal likelihood $\\log p(\\bx)$ can be obtained by approximately inferring the latent variables z from the observed data x using an encoder distribution $q(\\bz| \\bx)$ that is also specified as a neural network. This lower bound is then optimized to fit the model to the data. \n",
    "\n",
    "The model was introduced by Diederik Kingma (during his PhD at the UVA) and Max Welling in 2013, https://arxiv.org/abs/1312.6114. \n",
    "\n",
    "Since it is such an important model there are plenty of well written tutorials that should help you with the assignment. E.g: https://jaan.io/what-is-variational-autoencoder-vae-tutorial/.\n",
    "\n",
    "In the following, we will make heavily use of the torch module, https://pytorch.org/docs/stable/index.html. Most of the time replacing `np.` with `torch.` will do the trick, e.g. `np.sum` becomes `torch.sum` and `np.log` becomes `torch.log`. In addition, we will use `torch.FloatTensor()` as an equivalent to `np.array()`. In order to train our VAE efficiently we will make use of batching. The number of data points in a batch will become the first dimension of our data tensor, e.g. A batch of 128 MNIST images has the dimensions [128, 1, 28, 28]. To check check the dimensions of a tensor you can call `.size()`."
   ]
  },
  {
   "cell_type": "markdown",
   "metadata": {
    "deletable": false,
    "editable": false,
    "nbgrader": {
     "cell_type": "markdown",
     "checksum": "92bd337f41c3f94777f47376c7149ca7",
     "grade": false,
     "grade_id": "cell-bcbe35b20c1007d3",
     "locked": true,
     "schema_version": 3,
     "solution": false
    }
   },
   "source": [
    "### 2.1 Loss function\n",
    "The objective function (variational lower bound), that we will use to train the VAE, consists of two terms: a log Bernoulli loss (reconstruction loss) and a Kullback–Leibler divergence. We implement the two terms separately and combine them in the end.\n",
    "As seen in Part 1: Expectation Maximization, we can use a multivariate Bernoulli distribution to model the likelihood $p(\\bx | \\bz)$ of black and white images. Formally, the variational lower bound is maximized but in PyTorch we are always minimizing therefore we need to calculate the negative log Bernoulli loss and Kullback–Leibler divergence."
   ]
  },
  {
   "cell_type": "markdown",
   "metadata": {
    "deletable": false,
    "editable": false,
    "nbgrader": {
     "cell_type": "markdown",
     "checksum": "3fb5f70b132e1233983ef89d19998374",
     "grade": false,
     "grade_id": "cell-389d81024af846e5",
     "locked": true,
     "schema_version": 3,
     "solution": false
    }
   },
   "source": [
    "### 2.1.1 Negative Log Bernoulli loss (5 points)\n",
    "The negative log Bernoulli loss is defined as,\n",
    "\n",
    "\\begin{align}\n",
    "loss = - (\\sum_i^D \\bx_i \\log \\hat{\\bx_i} + (1 − \\bx_i) \\log(1 − \\hat{\\bx_i})).\n",
    "\\end{align}\n",
    "\n",
    "Write a function `log_bernoulli_loss` that takes a D dimensional vector `x`, its reconstruction `x_hat` and returns the negative log Bernoulli loss. Make sure that your function works for batches of arbitrary size."
   ]
  },
  {
   "cell_type": "code",
   "execution_count": 2,
   "metadata": {
    "deletable": false,
    "nbgrader": {
     "cell_type": "code",
     "checksum": "952435ca03f47ab67a7e88b8306fc9a0",
     "grade": false,
     "grade_id": "cell-1d504606d6f99145",
     "locked": false,
     "schema_version": 3,
     "solution": true
    }
   },
   "outputs": [],
   "source": [
    "def log_bernoulli_loss(x_hat, x):\n",
    "    \n",
    "    # YOUR CODE HERE\n",
    "    #raise NotImplementedError()\n",
    "    loss = torch.mul(x, torch.log(x_hat)) + torch.mul(1 - x, torch.log(1 - x_hat))\n",
    "    loss = -torch.sum(loss)\n",
    "\n",
    "    return loss\n"
   ]
  },
  {
   "cell_type": "code",
   "execution_count": 3,
   "metadata": {
    "deletable": false,
    "editable": false,
    "nbgrader": {
     "cell_type": "code",
     "checksum": "bd2a490aa694507bd032e86d77fc0087",
     "grade": true,
     "grade_id": "cell-9666dad0b2a9f483",
     "locked": true,
     "points": 5,
     "schema_version": 3,
     "solution": false
    }
   },
   "outputs": [],
   "source": [
    "### Test test test\n",
    "x_test = torch.FloatTensor([[0.1, 0.2, 0.3, 0.4], [0.5, 0.6, 0.7, 0.8], [0.9, 0.9, 0.9, 0.9]])\n",
    "x_hat_test = torch.FloatTensor([[0.11, 0.22, 0.33, 0.44], [0.55, 0.66, 0.77, 0.88], [0.99, 0.99, 0.99, 0.99]])\n",
    "\n",
    "assert log_bernoulli_loss(x_hat_test, x_test) > 0.0\n",
    "assert log_bernoulli_loss(x_hat_test, x_test) < 10.0\n"
   ]
  },
  {
   "cell_type": "markdown",
   "metadata": {
    "deletable": false,
    "editable": false,
    "nbgrader": {
     "cell_type": "markdown",
     "checksum": "6b75b7a531ecc87bce57925c4da464ee",
     "grade": false,
     "grade_id": "cell-b3a7c02dee7aa505",
     "locked": true,
     "schema_version": 3,
     "solution": false
    }
   },
   "source": [
    "### 2.1.2 Negative Kullback–Leibler divergence (10 Points)\n",
    "The variational lower bound (the objective to be maximized) contains a KL term $D_{KL}(q(\\bz)||p(\\bz))$ that can often be calculated analytically. In the VAE we assume $q = N(\\bz, \\mu, \\sigma^2I)$ and $p = N(\\bz, 0, I)$. Solve analytically!"
   ]
  },
  {
   "cell_type": "markdown",
   "metadata": {
    "deletable": false,
    "nbgrader": {
     "cell_type": "markdown",
     "checksum": "d01a7e7fe2dcf5f1c5fb955b85c8a04a",
     "grade": true,
     "grade_id": "cell-4cab10fd1a636858",
     "locked": false,
     "points": 5,
     "schema_version": 3,
     "solution": true
    }
   },
   "source": [
    "YOUR ANSWER HERE\n",
    "\n",
    "\n",
    "$$D_{KL}(q(\\bz)||p(\\bz)) =  - \\int q(\\bz) log \\frac{p(\\bz)}{q(\\bz)} d\\bz = \\int \\frac{1}{(2 \\pi)^{\\frac{K}{2}} (\\det\\sigma^2 I)^{\\frac{1}{2}}} e^{-\\frac{1}{2}(\\bz - \\mu)^T(\\sigma^2 I)^{-1}(\\bz - \\mu)} \\ln \\frac{(\\det \\sigma^2 I )^{\\frac{1}{2}}  e^{-\\frac{1}{2}(\\bz)^T(\\bz)}}{K^{\\frac{1}{2}}  e^{-\\frac{1}{2}(\\bz - \\mu)^T(\\sigma^2 I)^{-1}(\\bz - \\mu)}} = -\\frac{1}{2}\\ln \\frac{(\\sigma^2)^K}{1} + \\frac{1}{2}\\int q(\\bz) \\bz^T \\bz d\\bz - \\frac{1}{2}\\int q(\\bz) (\\bz - \\mu)^T (\\sigma^2 I )^{-1}(\\bz - \\mu) d\\bz =  -\\frac{K}{2}\\ln \\sigma^2 + \\frac{1}{2}(\\mu^T\\mu + K \\sigma^2) - \\frac{K}{2} = - \\frac{1}{2}(K \\ln \\sigma^2 + K - \\mu^T\\mu - K \\sigma^2) $$\n",
    "\n"
   ]
  },
  {
   "cell_type": "markdown",
   "metadata": {
    "deletable": false,
    "editable": false,
    "nbgrader": {
     "cell_type": "markdown",
     "checksum": "328115c94a66e8aba0a62896e647c3ba",
     "grade": false,
     "grade_id": "cell-c49899cbf2a49362",
     "locked": true,
     "schema_version": 3,
     "solution": false
    }
   },
   "source": [
    "Write a function `KL_loss` that takes two J dimensional vectors `mu` and `logvar` and returns the negative Kullback–Leibler divergence. Where `logvar` is $\\log(\\sigma^2)$. Make sure that your function works for batches of arbitrary size."
   ]
  },
  {
   "cell_type": "code",
   "execution_count": 4,
   "metadata": {
    "deletable": false,
    "nbgrader": {
     "cell_type": "code",
     "checksum": "33b14b79372dd0235d67bb66921cd3e0",
     "grade": false,
     "grade_id": "cell-125b41878005206b",
     "locked": false,
     "schema_version": 3,
     "solution": true
    }
   },
   "outputs": [],
   "source": [
    "def KL_loss(mu, logvar):\n",
    "    \n",
    "    # YOUR CODE HERE\n",
    "    #raise NotImplementedError()\n",
    "    loss = -1/2*torch.sum(1+logvar - mu.pow(2) - torch.exp(logvar))\n",
    "    return loss\n"
   ]
  },
  {
   "cell_type": "code",
   "execution_count": 5,
   "metadata": {
    "deletable": false,
    "editable": false,
    "nbgrader": {
     "cell_type": "code",
     "checksum": "cf72e196d2b60827e8e940681ac50a07",
     "grade": true,
     "grade_id": "cell-ba714bbe270a3f39",
     "locked": true,
     "points": 5,
     "schema_version": 3,
     "solution": false
    }
   },
   "outputs": [],
   "source": [
    "### Test test test\n",
    "mu_test = torch.FloatTensor([[0.1, 0.2], [0.3, 0.4], [0.5, 0.6]])\n",
    "logvar_test = torch.FloatTensor([[0.01, 0.02], [0.03, 0.04], [0.05, 0.06]])\n",
    "\n",
    "assert KL_loss(mu_test, logvar_test) > 0.0\n",
    "assert KL_loss(mu_test, logvar_test) < 10.0\n"
   ]
  },
  {
   "cell_type": "markdown",
   "metadata": {
    "deletable": false,
    "editable": false,
    "nbgrader": {
     "cell_type": "markdown",
     "checksum": "65335a588baac26bc48dd6c4d275fdca",
     "grade": false,
     "grade_id": "cell-18cb3f8031edec23",
     "locked": true,
     "schema_version": 3,
     "solution": false
    }
   },
   "source": [
    "### 2.1.3 Putting the losses together (5 points)\n",
    "Write a function `loss_function` that takes a D dimensional vector `x`, its reconstruction `x_hat`, two J dimensional vectors `mu` and `logvar` and returns the final loss. Make sure that your function works for batches of arbitrary size."
   ]
  },
  {
   "cell_type": "code",
   "execution_count": 6,
   "metadata": {
    "deletable": false,
    "nbgrader": {
     "cell_type": "code",
     "checksum": "f6ecb5b60b2c8d7b90070ed59320ee70",
     "grade": false,
     "grade_id": "cell-d2d18781683f1302",
     "locked": false,
     "schema_version": 3,
     "solution": true
    }
   },
   "outputs": [],
   "source": [
    "def loss_function(x_hat, x, mu, logvar):\n",
    "    \n",
    "    # YOUR CODE HERE\n",
    "    #raise NotImplementedError()\n",
    "    loss =  (log_bernoulli_loss(x_hat, x) + KL_loss(mu, logvar))#/x.size(0)\n",
    "    return loss\n"
   ]
  },
  {
   "cell_type": "code",
   "execution_count": 7,
   "metadata": {
    "deletable": false,
    "editable": false,
    "nbgrader": {
     "cell_type": "code",
     "checksum": "816e9508408bfcb2c7332b508d505081",
     "grade": true,
     "grade_id": "cell-57747988d29bbb5d",
     "locked": true,
     "points": 5,
     "schema_version": 3,
     "solution": false
    }
   },
   "outputs": [],
   "source": [
    "x_test = torch.FloatTensor([[0.1, 0.2, 0.3], [0.4, 0.5, 0.6], [0.7, 0.8, 0.9]])\n",
    "x_hat_test = torch.FloatTensor([[0.11, 0.22, 0.33], [0.44, 0.55, 0.66], [0.77, 0.88, 0.99]])\n",
    "mu_test = torch.FloatTensor([[0.1, 0.2], [0.3, 0.4], [0.5, 0.6]])\n",
    "logvar_test = torch.FloatTensor([[0.01, 0.02], [0.03, 0.04], [0.05, 0.06]])\n",
    "\n",
    "assert loss_function(x_hat_test, x_test, mu_test, logvar_test) > 0.0\n",
    "assert loss_function(x_hat_test, x_test, mu_test, logvar_test) < 10.0\n"
   ]
  },
  {
   "cell_type": "markdown",
   "metadata": {
    "deletable": false,
    "editable": false,
    "nbgrader": {
     "cell_type": "markdown",
     "checksum": "4506e06ed44a0535140582277a528ba4",
     "grade": false,
     "grade_id": "cell-9e3ba708967fe918",
     "locked": true,
     "schema_version": 3,
     "solution": false
    }
   },
   "source": [
    "### 2.2 The model\n",
    "Below you see a data structure for the VAE. The modell itself consists of two main parts the encoder (images $\\bx$ to latent variables $\\bz$) and the decoder (latent variables $\\bz$ to images $\\bx$). The encoder is using 3 fully-connected layers, whereas the decoder is using fully-connected layers. Right now the data structure is quite empty, step by step will update its functionality. For test purposes we will initialize a VAE for you. After the data structure is completed you will do the hyperparameter search.\n"
   ]
  },
  {
   "cell_type": "code",
   "execution_count": 8,
   "metadata": {
    "deletable": false,
    "editable": false,
    "nbgrader": {
     "cell_type": "code",
     "checksum": "31eccf2f6600764e28eb4bc6c5634e49",
     "grade": false,
     "grade_id": "cell-e7d9dafee18f28a1",
     "locked": true,
     "schema_version": 3,
     "solution": false
    }
   },
   "outputs": [],
   "source": [
    "from torch import nn\n",
    "from torch.nn import functional as F \n",
    "\n",
    "class VAE(nn.Module):\n",
    "    def __init__(self, fc1_dims, fc21_dims, fc22_dims, fc3_dims, fc4_dims):\n",
    "        super(VAE, self).__init__()\n",
    "\n",
    "        self.fc1 = nn.Linear(*fc1_dims)\n",
    "        self.fc21 = nn.Linear(*fc21_dims)\n",
    "        self.fc22 = nn.Linear(*fc22_dims)\n",
    "        self.fc3 = nn.Linear(*fc3_dims)\n",
    "        self.fc4 = nn.Linear(*fc4_dims)\n",
    "\n",
    "    def encode(self, x):\n",
    "        # To be implemented\n",
    "        raise Exception('Method not implemented')\n",
    "\n",
    "    def reparameterize(self, mu, logvar):\n",
    "        # To be implemented\n",
    "        raise Exception('Method not implemented')\n",
    "\n",
    "    def decode(self, z):\n",
    "        # To be implemented\n",
    "        raise Exception('Method not implemented')\n",
    "\n",
    "    def forward(self, x):\n",
    "        # To be implemented\n",
    "        raise Exception('Method not implemented')\n",
    "\n",
    "VAE_test = VAE(fc1_dims=(784, 4), fc21_dims=(4, 2), fc22_dims=(4, 2), fc3_dims=(2, 4), fc4_dims=(4, 784))\n"
   ]
  },
  {
   "cell_type": "markdown",
   "metadata": {
    "deletable": false,
    "editable": false,
    "nbgrader": {
     "cell_type": "markdown",
     "checksum": "1a2243397998b4f55c25dfd734f3e7e0",
     "grade": false,
     "grade_id": "cell-c4f9e841b8972a43",
     "locked": true,
     "schema_version": 3,
     "solution": false
    }
   },
   "source": [
    "### 2.3 Encoding (10 points)\n",
    "Write a function `encode` that gets a vector `x` with 784 elements (flattened MNIST image) and returns `mu` and `logvar`. Your function should use three fully-connected layers (`self.fc1()`, `self.fc21()`, `self.fc22()`). First, you should use `self.fc1()` to embed `x`. Second, you should use `self.fc21()` and `self.fc22()` on the embedding of `x` to compute `mu` and `logvar` respectively. PyTorch comes with a variety of activation functions, the most common calls are `F.relu()`, `F.sigmoid()`, `F.tanh()`. Make sure that your function works for batches of arbitrary size.  "
   ]
  },
  {
   "cell_type": "code",
   "execution_count": 9,
   "metadata": {
    "deletable": false,
    "nbgrader": {
     "cell_type": "code",
     "checksum": "628bcd88c611cf01e70f77854600199b",
     "grade": false,
     "grade_id": "cell-93cb75b98ae76569",
     "locked": false,
     "schema_version": 3,
     "solution": true
    }
   },
   "outputs": [],
   "source": [
    "def encode(self, x):\n",
    "    \n",
    "    # YOUR CODE HERE\n",
    "    #raise NotImplementedError()\n",
    "    \n",
    "    x_ = F.relu(self.fc1(x))\n",
    "    logvar = self.fc21(x_)\n",
    "    mu = self.fc22(x_)\n",
    "    return mu, logvar\n"
   ]
  },
  {
   "cell_type": "code",
   "execution_count": 10,
   "metadata": {
    "deletable": false,
    "editable": false,
    "nbgrader": {
     "cell_type": "code",
     "checksum": "370d930fa9f10f1d3a451f3805c04d88",
     "grade": true,
     "grade_id": "cell-9648960b73337a70",
     "locked": true,
     "points": 10,
     "schema_version": 3,
     "solution": false
    }
   },
   "outputs": [],
   "source": [
    "### Test, test, test\n",
    "VAE.encode = encode\n",
    "\n",
    "x_test = torch.ones((5,784))\n",
    "mu_test, logvar_test = VAE_test.encode(x_test)\n",
    "\n",
    "assert np.allclose(mu_test.size(), [5, 2])\n",
    "assert np.allclose(logvar_test.size(), [5, 2])\n"
   ]
  },
  {
   "cell_type": "markdown",
   "metadata": {
    "deletable": false,
    "editable": false,
    "nbgrader": {
     "cell_type": "markdown",
     "checksum": "6f597cc2b5ef941af282d7162297f865",
     "grade": false,
     "grade_id": "cell-581b4ed1996be868",
     "locked": true,
     "schema_version": 3,
     "solution": false
    }
   },
   "source": [
    "### 2.4 Reparameterization (10 points)\n",
    "One of the major question that the VAE is answering, is 'how to take derivatives with respect to the parameters of a stochastic variable?', i.e. if we are given $\\bz$ that is drawn from a distribution $q(\\bz|\\bx)$, and we want to take derivatives. This step is necessary to be able to use gradient-based optimization algorithms like SGD.\n",
    "For some distributions, it is possible to reparameterize samples in a clever way, such that the stochasticity is independent of the parameters. We want our samples to deterministically depend on the parameters of the distribution. For example, in a normally-distributed variable with mean $\\mu$ and standard deviation $\\sigma$, we can sample from it like this:\n",
    "\n",
    "\\begin{align}\n",
    "\\bz = \\mu + \\sigma \\odot \\epsilon,\n",
    "\\end{align}\n",
    "\n",
    "where $\\odot$ is the element-wise multiplication and $\\epsilon$ is sampled from $N(0, I)$.\n",
    "\n",
    "\n",
    "Write a function `reparameterize` that takes two J dimensional vectors `mu` and `logvar`. It should return $\\bz = \\mu + \\sigma \\odot \\epsilon$.\n"
   ]
  },
  {
   "cell_type": "code",
   "execution_count": 11,
   "metadata": {
    "deletable": false,
    "nbgrader": {
     "cell_type": "code",
     "checksum": "6331cb5dd23aaacbcf1a52cfecb1afaa",
     "grade": false,
     "grade_id": "cell-679aea8b2adf7ec4",
     "locked": false,
     "schema_version": 3,
     "solution": true
    }
   },
   "outputs": [],
   "source": [
    "def reparameterize(self, mu, logvar):\n",
    "            \n",
    "        # YOUR CODE HERE\n",
    "        #raise NotImplementedError()\n",
    "        N, K = mu.size()\n",
    "        eps = torch.autograd.Variable(torch.randn(N, K))\n",
    "        z = mu + torch.exp(logvar / 2) * eps\n",
    "        return z\n"
   ]
  },
  {
   "cell_type": "code",
   "execution_count": 12,
   "metadata": {
    "deletable": false,
    "editable": false,
    "nbgrader": {
     "cell_type": "code",
     "checksum": "38d4e047717ab334b262c8c177f0a420",
     "grade": true,
     "grade_id": "cell-fdd7b27a3d17f84e",
     "locked": true,
     "points": 10,
     "schema_version": 3,
     "solution": false
    }
   },
   "outputs": [],
   "source": [
    "### Test, test, test\n",
    "VAE.reparameterize = reparameterize\n",
    "VAE_test.train()\n",
    "\n",
    "mu_test = torch.FloatTensor([[0.1, 0.2], [0.3, 0.4], [0.5, 0.6]])\n",
    "logvar_test = torch.FloatTensor([[0.01, 0.02], [0.03, 0.04], [0.05, 0.06]])\n",
    "\n",
    "z_test = VAE_test.reparameterize(mu_test, logvar_test)\n",
    "\n",
    "assert np.allclose(z_test.size(), [3, 2])\n",
    "assert z_test[0][0] < 5.0\n",
    "assert z_test[0][0] > -5.0\n"
   ]
  },
  {
   "cell_type": "markdown",
   "metadata": {
    "deletable": false,
    "editable": false,
    "nbgrader": {
     "cell_type": "markdown",
     "checksum": "9241ab0eaf8366c37ad57072ce66f095",
     "grade": false,
     "grade_id": "cell-0be851f9f7f0a93e",
     "locked": true,
     "schema_version": 3,
     "solution": false
    }
   },
   "source": [
    "### 2.5 Decoding (10 points)\n",
    "Write a function `decode` that gets a vector `z` with J elements and returns a vector `x_hat` with 784 elements (flattened MNIST image). Your function should use two fully-connected layers (`self.fc3()`, `self.fc4()`). PyTorch comes with a variety of activation functions, the most common calls are `F.relu()`, `F.sigmoid()`, `F.tanh()`. Make sure that your function works for batches of arbitrary size."
   ]
  },
  {
   "cell_type": "code",
   "execution_count": 13,
   "metadata": {
    "deletable": false,
    "nbgrader": {
     "cell_type": "code",
     "checksum": "e8e833cfd7c54a9b67a38056d5d6cab8",
     "grade": false,
     "grade_id": "cell-bf92bb3878275a41",
     "locked": false,
     "schema_version": 3,
     "solution": true
    }
   },
   "outputs": [],
   "source": [
    "def decode(self, z):\n",
    "    \n",
    "    # YOUR CODE HERE\n",
    "    #raise NotImplementedError()\n",
    "    z_ = F.relu(self.fc3(z))\n",
    "    x_hat = torch.sigmoid(self.fc4(z_))\n",
    "    return x_hat\n"
   ]
  },
  {
   "cell_type": "code",
   "execution_count": 14,
   "metadata": {
    "deletable": false,
    "editable": false,
    "nbgrader": {
     "cell_type": "code",
     "checksum": "7732293fd7d971fcf255496e8c68638d",
     "grade": true,
     "grade_id": "cell-4abb91cb9e80af5d",
     "locked": true,
     "points": 10,
     "schema_version": 3,
     "solution": false
    }
   },
   "outputs": [],
   "source": [
    "# test test test\n",
    "VAE.decode = decode\n",
    "\n",
    "z_test = torch.ones((5,2))\n",
    "x_hat_test = VAE_test.decode(z_test)\n",
    "\n",
    "assert np.allclose(x_hat_test.size(), [5, 784])\n",
    "assert (x_hat_test <= 1).all()\n",
    "assert (x_hat_test >= 0).all()\n"
   ]
  },
  {
   "cell_type": "markdown",
   "metadata": {
    "deletable": false,
    "editable": false,
    "nbgrader": {
     "cell_type": "markdown",
     "checksum": "e2e113d1f45398b2a1399c336526e755",
     "grade": false,
     "grade_id": "cell-97511fbc4f5b469b",
     "locked": true,
     "schema_version": 3,
     "solution": false
    }
   },
   "source": [
    "### 2.6 Forward pass (10)\n",
    "To complete the data structure you have to define a forward pass through the VAE. A single forward pass consists of the encoding of an MNIST image $\\bx$ into latent space $\\bz$, the reparameterization of $\\bz$ and the decoding of $\\bz$ into an image $\\bx$.\n",
    "\n",
    "Write a function `forward` that gets a a vector `x` with 784 elements (flattened MNIST image) and returns a vector `x_hat` with 784 elements (flattened MNIST image), `mu` and `logvar`."
   ]
  },
  {
   "cell_type": "code",
   "execution_count": 15,
   "metadata": {
    "deletable": false,
    "nbgrader": {
     "cell_type": "code",
     "checksum": "8b7433c4631dd01c07a5fe287e55ae13",
     "grade": false,
     "grade_id": "cell-26bb463b9f98ebd5",
     "locked": false,
     "schema_version": 3,
     "solution": true
    }
   },
   "outputs": [],
   "source": [
    "def forward(self, x):\n",
    "    x = x.view(-1, 784)\n",
    "    \n",
    "    # YOUR CODE HERE\n",
    "    #raise NotImplementedError()\n",
    "    mu, logvar = self.encode(x)\n",
    "    z = self.reparameterize(mu, logvar)\n",
    "    x_hat = self.decode(z)\n",
    "    return x_hat, mu, logvar\n"
   ]
  },
  {
   "cell_type": "code",
   "execution_count": 16,
   "metadata": {
    "deletable": false,
    "editable": false,
    "nbgrader": {
     "cell_type": "code",
     "checksum": "8e7e495f40465c162512e9873c360b25",
     "grade": true,
     "grade_id": "cell-347e5fba3d02754b",
     "locked": true,
     "points": 10,
     "schema_version": 3,
     "solution": false
    }
   },
   "outputs": [],
   "source": [
    "# test test test \n",
    "VAE.forward = forward\n",
    "\n",
    "x_test = torch.ones((5,784))\n",
    "x_hat_test, mu_test, logvar_test = VAE_test.forward(x_test)\n",
    "\n",
    "assert np.allclose(x_hat_test.size(), [5, 784])\n",
    "assert np.allclose(mu_test.size(), [5, 2])\n",
    "assert np.allclose(logvar_test.size(), [5, 2])\n"
   ]
  },
  {
   "cell_type": "markdown",
   "metadata": {
    "deletable": false,
    "editable": false,
    "nbgrader": {
     "cell_type": "markdown",
     "checksum": "a114a6fd781fb949b887e6a028e07946",
     "grade": false,
     "grade_id": "cell-62c89e4d3b253671",
     "locked": true,
     "schema_version": 3,
     "solution": false
    }
   },
   "source": [
    "### 2.7 Training (15)\n",
    "We will now train the VAE using an optimizer called Adam, https://arxiv.org/abs/1412.6980. The code to train a model in PyTorch is given below."
   ]
  },
  {
   "cell_type": "code",
   "execution_count": 22,
   "metadata": {},
   "outputs": [],
   "source": [
    "from torch.autograd import Variable\n",
    "\n",
    "def train(epoch, train_loader, model, optimizer):\n",
    "    model.train()\n",
    "    train_loss = 0\n",
    "    for batch_idx, (data, _) in enumerate(train_loader):\n",
    "        data = Variable(data)\n",
    "        optimizer.zero_grad()\n",
    "        recon_batch, mu, logvar = model(data)\n",
    "        print('data ', data.size(), ' recon_batch ', recon_batch.size(), ' mu ', mu.size())\n",
    "        loss = loss_function(recon_batch, data.view(-1, 784), mu, logvar)\n",
    "        loss.backward()\n",
    "        train_loss += loss.data\n",
    "        optimizer.step()\n",
    "        if batch_idx % 100 == 0:\n",
    "            print('Train Epoch: {} [{}/{} ({:.0f}%)]\\tLoss: {:.6f}'.format(\n",
    "                epoch, batch_idx * len(data), len(train_loader.dataset),\n",
    "                100. * batch_idx / len(train_loader),\n",
    "                loss.data / len(data)))\n",
    "\n",
    "    print('====> Epoch: {} Average loss: {:.4f}'.format(\n",
    "          epoch, train_loss / len(train_loader.dataset)))"
   ]
  },
  {
   "cell_type": "code",
   "execution_count": 77,
   "metadata": {
    "deletable": false,
    "editable": false,
    "nbgrader": {
     "cell_type": "code",
     "checksum": "f3b6bb965fb48229c63cacda48baea65",
     "grade": false,
     "grade_id": "cell-be75f61b09f3b9b6",
     "locked": true,
     "schema_version": 3,
     "solution": false
    }
   },
   "outputs": [],
   "source": [
    "from torch.autograd import Variable\n",
    "\n",
    "def train(epoch, train_loader, model, optimizer):\n",
    "    model.train()\n",
    "    train_loss = 0\n",
    "    for batch_idx, (data, _) in enumerate(train_loader):\n",
    "        data = Variable(data)\n",
    "        optimizer.zero_grad()\n",
    "        recon_batch, mu, logvar = model(data)\n",
    "        loss = loss_function(recon_batch, data.view(-1, 784), mu, logvar)\n",
    "        loss.backward()\n",
    "        train_loss += loss.data\n",
    "        optimizer.step()\n",
    "        if batch_idx % 100 == 0:\n",
    "            print('Train Epoch: {} [{}/{} ({:.0f}%)]\\tLoss: {:.6f}'.format(\n",
    "                epoch, batch_idx * len(data), len(train_loader.dataset),\n",
    "                100. * batch_idx / len(train_loader),\n",
    "                loss.data / len(data)))\n",
    "\n",
    "    print('====> Epoch: {} Average loss: {:.4f}'.format(\n",
    "          epoch, train_loss / len(train_loader.dataset)))\n"
   ]
  },
  {
   "cell_type": "markdown",
   "metadata": {
    "deletable": false,
    "editable": false,
    "nbgrader": {
     "cell_type": "markdown",
     "checksum": "48ca730dbef06a668f4dfdb24888f265",
     "grade": false,
     "grade_id": "cell-da1b063b7de850b9",
     "locked": true,
     "schema_version": 3,
     "solution": false
    }
   },
   "source": [
    "Let's train. You have to choose the hyperparameters. Make sure your loss is going down in a reasonable amount of epochs (around 10)."
   ]
  },
  {
   "cell_type": "code",
   "execution_count": 23,
   "metadata": {
    "deletable": false,
    "nbgrader": {
     "cell_type": "code",
     "checksum": "846430258fb80f50b161135448726520",
     "grade": false,
     "grade_id": "cell-d4d4408d397f6967",
     "locked": false,
     "schema_version": 3,
     "solution": true
    }
   },
   "outputs": [],
   "source": [
    "# Hyperparameters\n",
    "# fc1_dims = (?,?)\n",
    "# fc21_dims =\n",
    "# fc22_dims =\n",
    "# fc3_dims =\n",
    "# fc4_dims =\n",
    "# lr =\n",
    "# batch_size =\n",
    "# epochs =\n",
    "\n",
    "# YOUR CODE HERE\n",
    "#raise NotImplementedError()\n",
    "\n",
    "\n",
    "fc1_dims = (784, 500)\n",
    "fc21_dims = (500, 20)\n",
    "fc22_dims = (500, 20)\n",
    "fc3_dims = (20, 500)\n",
    "fc4_dims = (500, 784)\n",
    "lr = 1e-3\n",
    "batch_size = 64\n",
    "epochs = 15\n"
   ]
  },
  {
   "cell_type": "code",
   "execution_count": 24,
   "metadata": {
    "deletable": false,
    "editable": false,
    "nbgrader": {
     "cell_type": "code",
     "checksum": "b93390f399b743276bc25e67493344f2",
     "grade": true,
     "grade_id": "cell-ca352d8389c1809a",
     "locked": true,
     "points": 15,
     "schema_version": 3,
     "solution": false
    }
   },
   "outputs": [],
   "source": [
    "# This cell contains a hidden test, please don't delete it, thx"
   ]
  },
  {
   "cell_type": "markdown",
   "metadata": {
    "deletable": false,
    "editable": false,
    "nbgrader": {
     "cell_type": "markdown",
     "checksum": "20719070ed85964de9722acc3456a515",
     "grade": false,
     "grade_id": "cell-5c77370db7cec9f2",
     "locked": true,
     "schema_version": 3,
     "solution": false
    }
   },
   "source": [
    "Run the box below to train the model using the hyperparameters you entered above."
   ]
  },
  {
   "cell_type": "code",
   "execution_count": 25,
   "metadata": {
    "deletable": false,
    "editable": false,
    "nbgrader": {
     "cell_type": "code",
     "checksum": "38306be3638e85812bd5b2a052fcc0a4",
     "grade": false,
     "grade_id": "cell-5712d42de1068398",
     "locked": true,
     "schema_version": 3,
     "solution": false
    }
   },
   "outputs": [
    {
     "name": "stdout",
     "output_type": "stream",
     "text": [
      "Downloading http://yann.lecun.com/exdb/mnist/train-images-idx3-ubyte.gz\n",
      "Downloading http://yann.lecun.com/exdb/mnist/train-labels-idx1-ubyte.gz\n",
      "Downloading http://yann.lecun.com/exdb/mnist/t10k-images-idx3-ubyte.gz\n",
      "Downloading http://yann.lecun.com/exdb/mnist/t10k-labels-idx1-ubyte.gz\n",
      "Processing...\n",
      "Done!\n",
      "data  torch.Size([64, 1, 28, 28])  recon_batch  torch.Size([64, 784])  mu  torch.Size([64, 20])\n",
      "Train Epoch: 1 [0/60000 (0%)]\tLoss: 547.277832\n",
      "data  torch.Size([64, 1, 28, 28])  recon_batch  torch.Size([64, 784])  mu  torch.Size([64, 20])\n",
      "data  torch.Size([64, 1, 28, 28])  recon_batch  torch.Size([64, 784])  mu  torch.Size([64, 20])\n",
      "data  torch.Size([64, 1, 28, 28])  recon_batch  torch.Size([64, 784])  mu  torch.Size([64, 20])\n",
      "data  torch.Size([64, 1, 28, 28])  recon_batch  torch.Size([64, 784])  mu  torch.Size([64, 20])\n",
      "data  torch.Size([64, 1, 28, 28])  recon_batch  torch.Size([64, 784])  mu  torch.Size([64, 20])\n",
      "data  torch.Size([64, 1, 28, 28])  recon_batch  torch.Size([64, 784])  mu  torch.Size([64, 20])\n",
      "data  torch.Size([64, 1, 28, 28])  recon_batch  torch.Size([64, 784])  mu  torch.Size([64, 20])\n",
      "data  torch.Size([64, 1, 28, 28])  recon_batch  torch.Size([64, 784])  mu  torch.Size([64, 20])\n",
      "data  torch.Size([64, 1, 28, 28])  recon_batch  torch.Size([64, 784])  mu  torch.Size([64, 20])\n",
      "data  torch.Size([64, 1, 28, 28])  recon_batch  torch.Size([64, 784])  mu  torch.Size([64, 20])\n",
      "data  torch.Size([64, 1, 28, 28])  recon_batch  torch.Size([64, 784])  mu  torch.Size([64, 20])\n",
      "data  torch.Size([64, 1, 28, 28])  recon_batch  torch.Size([64, 784])  mu  torch.Size([64, 20])\n",
      "data  torch.Size([64, 1, 28, 28])  recon_batch  torch.Size([64, 784])  mu  torch.Size([64, 20])\n",
      "data  torch.Size([64, 1, 28, 28])  recon_batch  torch.Size([64, 784])  mu  torch.Size([64, 20])\n",
      "data  torch.Size([64, 1, 28, 28])  recon_batch  torch.Size([64, 784])  mu  torch.Size([64, 20])\n",
      "data  torch.Size([64, 1, 28, 28])  recon_batch  torch.Size([64, 784])  mu  torch.Size([64, 20])\n",
      "data  torch.Size([64, 1, 28, 28])  recon_batch  torch.Size([64, 784])  mu  torch.Size([64, 20])\n",
      "data  torch.Size([64, 1, 28, 28])  recon_batch  torch.Size([64, 784])  mu  torch.Size([64, 20])\n",
      "data  torch.Size([64, 1, 28, 28])  recon_batch  torch.Size([64, 784])  mu  torch.Size([64, 20])\n",
      "data  torch.Size([64, 1, 28, 28])  recon_batch  torch.Size([64, 784])  mu  torch.Size([64, 20])\n",
      "data  torch.Size([64, 1, 28, 28])  recon_batch  torch.Size([64, 784])  mu  torch.Size([64, 20])\n",
      "data  torch.Size([64, 1, 28, 28])  recon_batch  torch.Size([64, 784])  mu  torch.Size([64, 20])\n",
      "data  torch.Size([64, 1, 28, 28])  recon_batch  torch.Size([64, 784])  mu  torch.Size([64, 20])\n",
      "data  torch.Size([64, 1, 28, 28])  recon_batch  torch.Size([64, 784])  mu  torch.Size([64, 20])\n",
      "data  torch.Size([64, 1, 28, 28])  recon_batch  torch.Size([64, 784])  mu  torch.Size([64, 20])\n",
      "data  torch.Size([64, 1, 28, 28])  recon_batch  torch.Size([64, 784])  mu  torch.Size([64, 20])\n",
      "data  torch.Size([64, 1, 28, 28])  recon_batch  torch.Size([64, 784])  mu  torch.Size([64, 20])\n",
      "data  torch.Size([64, 1, 28, 28])  recon_batch  torch.Size([64, 784])  mu  torch.Size([64, 20])\n",
      "data  torch.Size([64, 1, 28, 28])  recon_batch  torch.Size([64, 784])  mu  torch.Size([64, 20])\n",
      "data  torch.Size([64, 1, 28, 28])  recon_batch  torch.Size([64, 784])  mu  torch.Size([64, 20])\n",
      "data  torch.Size([64, 1, 28, 28])  recon_batch  torch.Size([64, 784])  mu  torch.Size([64, 20])\n",
      "data  torch.Size([64, 1, 28, 28])  recon_batch  torch.Size([64, 784])  mu  torch.Size([64, 20])\n",
      "data  torch.Size([64, 1, 28, 28])  recon_batch  torch.Size([64, 784])  mu  torch.Size([64, 20])\n",
      "data  torch.Size([64, 1, 28, 28])  recon_batch  torch.Size([64, 784])  mu  torch.Size([64, 20])\n",
      "data  torch.Size([64, 1, 28, 28])  recon_batch  torch.Size([64, 784])  mu  torch.Size([64, 20])\n",
      "data  torch.Size([64, 1, 28, 28])  recon_batch  torch.Size([64, 784])  mu  torch.Size([64, 20])\n",
      "data  torch.Size([64, 1, 28, 28])  recon_batch  torch.Size([64, 784])  mu  torch.Size([64, 20])\n",
      "data  torch.Size([64, 1, 28, 28])  recon_batch  torch.Size([64, 784])  mu  torch.Size([64, 20])\n",
      "data  torch.Size([64, 1, 28, 28])  recon_batch  torch.Size([64, 784])  mu  torch.Size([64, 20])\n",
      "data  torch.Size([64, 1, 28, 28])  recon_batch  torch.Size([64, 784])  mu  torch.Size([64, 20])\n",
      "data  torch.Size([64, 1, 28, 28])  recon_batch  torch.Size([64, 784])  mu  torch.Size([64, 20])\n",
      "data  torch.Size([64, 1, 28, 28])  recon_batch  torch.Size([64, 784])  mu  torch.Size([64, 20])\n",
      "data  torch.Size([64, 1, 28, 28])  recon_batch  torch.Size([64, 784])  mu  torch.Size([64, 20])\n",
      "data  torch.Size([64, 1, 28, 28])  recon_batch  torch.Size([64, 784])  mu  torch.Size([64, 20])\n",
      "data  torch.Size([64, 1, 28, 28])  recon_batch  torch.Size([64, 784])  mu  torch.Size([64, 20])\n",
      "data  torch.Size([64, 1, 28, 28])  recon_batch  torch.Size([64, 784])  mu  torch.Size([64, 20])\n",
      "data  torch.Size([64, 1, 28, 28])  recon_batch  torch.Size([64, 784])  mu  torch.Size([64, 20])\n",
      "data  torch.Size([64, 1, 28, 28])  recon_batch  torch.Size([64, 784])  mu  torch.Size([64, 20])\n",
      "data  torch.Size([64, 1, 28, 28])  recon_batch  torch.Size([64, 784])  mu  torch.Size([64, 20])\n",
      "data  torch.Size([64, 1, 28, 28])  recon_batch  torch.Size([64, 784])  mu  torch.Size([64, 20])\n",
      "data  torch.Size([64, 1, 28, 28])  recon_batch  torch.Size([64, 784])  mu  torch.Size([64, 20])\n",
      "data  torch.Size([64, 1, 28, 28])  recon_batch  torch.Size([64, 784])  mu  torch.Size([64, 20])\n",
      "data  torch.Size([64, 1, 28, 28])  recon_batch  torch.Size([64, 784])  mu  torch.Size([64, 20])\n",
      "data  torch.Size([64, 1, 28, 28])  recon_batch  torch.Size([64, 784])  mu  torch.Size([64, 20])\n",
      "data  torch.Size([64, 1, 28, 28])  recon_batch  torch.Size([64, 784])  mu  torch.Size([64, 20])\n",
      "data  torch.Size([64, 1, 28, 28])  recon_batch  torch.Size([64, 784])  mu  torch.Size([64, 20])\n",
      "data  torch.Size([64, 1, 28, 28])  recon_batch  torch.Size([64, 784])  mu  torch.Size([64, 20])\n",
      "data  torch.Size([64, 1, 28, 28])  recon_batch  torch.Size([64, 784])  mu  torch.Size([64, 20])\n",
      "data  torch.Size([64, 1, 28, 28])  recon_batch  torch.Size([64, 784])  mu  torch.Size([64, 20])\n",
      "data  torch.Size([64, 1, 28, 28])  recon_batch  torch.Size([64, 784])  mu  torch.Size([64, 20])\n",
      "data  torch.Size([64, 1, 28, 28])  recon_batch  torch.Size([64, 784])  mu  torch.Size([64, 20])\n",
      "data  torch.Size([64, 1, 28, 28])  recon_batch  torch.Size([64, 784])  mu  torch.Size([64, 20])\n",
      "data  torch.Size([64, 1, 28, 28])  recon_batch  torch.Size([64, 784])  mu  torch.Size([64, 20])\n",
      "data  torch.Size([64, 1, 28, 28])  recon_batch  torch.Size([64, 784])  mu  torch.Size([64, 20])\n",
      "data  torch.Size([64, 1, 28, 28])  recon_batch  torch.Size([64, 784])  mu  torch.Size([64, 20])\n",
      "data  torch.Size([64, 1, 28, 28])  recon_batch  torch.Size([64, 784])  mu  torch.Size([64, 20])\n",
      "data  torch.Size([64, 1, 28, 28])  recon_batch  torch.Size([64, 784])  mu  torch.Size([64, 20])\n",
      "data  torch.Size([64, 1, 28, 28])  recon_batch  torch.Size([64, 784])  mu  torch.Size([64, 20])\n",
      "data  torch.Size([64, 1, 28, 28])  recon_batch  torch.Size([64, 784])  mu  torch.Size([64, 20])\n",
      "data  torch.Size([64, 1, 28, 28])  recon_batch  torch.Size([64, 784])  mu  torch.Size([64, 20])\n",
      "data  torch.Size([64, 1, 28, 28])  recon_batch  torch.Size([64, 784])  mu  torch.Size([64, 20])\n",
      "data  torch.Size([64, 1, 28, 28])  recon_batch  torch.Size([64, 784])  mu  torch.Size([64, 20])\n",
      "data  torch.Size([64, 1, 28, 28])  recon_batch  torch.Size([64, 784])  mu  torch.Size([64, 20])\n",
      "data  torch.Size([64, 1, 28, 28])  recon_batch  torch.Size([64, 784])  mu  torch.Size([64, 20])\n",
      "data  torch.Size([64, 1, 28, 28])  recon_batch  torch.Size([64, 784])  mu  torch.Size([64, 20])\n",
      "data  torch.Size([64, 1, 28, 28])  recon_batch  torch.Size([64, 784])  mu  torch.Size([64, 20])\n",
      "data  torch.Size([64, 1, 28, 28])  recon_batch  torch.Size([64, 784])  mu  torch.Size([64, 20])\n",
      "data  torch.Size([64, 1, 28, 28])  recon_batch  torch.Size([64, 784])  mu  torch.Size([64, 20])\n",
      "data  torch.Size([64, 1, 28, 28])  recon_batch  torch.Size([64, 784])  mu  torch.Size([64, 20])\n",
      "data  torch.Size([64, 1, 28, 28])  recon_batch  torch.Size([64, 784])  mu  torch.Size([64, 20])\n",
      "data  torch.Size([64, 1, 28, 28])  recon_batch  torch.Size([64, 784])  mu  torch.Size([64, 20])\n"
     ]
    },
    {
     "name": "stdout",
     "output_type": "stream",
     "text": [
      "data  torch.Size([64, 1, 28, 28])  recon_batch  torch.Size([64, 784])  mu  torch.Size([64, 20])\n",
      "data  torch.Size([64, 1, 28, 28])  recon_batch  torch.Size([64, 784])  mu  torch.Size([64, 20])\n",
      "data  torch.Size([64, 1, 28, 28])  recon_batch  torch.Size([64, 784])  mu  torch.Size([64, 20])\n",
      "data  torch.Size([64, 1, 28, 28])  recon_batch  torch.Size([64, 784])  mu  torch.Size([64, 20])\n",
      "data  torch.Size([64, 1, 28, 28])  recon_batch  torch.Size([64, 784])  mu  torch.Size([64, 20])\n",
      "data  torch.Size([64, 1, 28, 28])  recon_batch  torch.Size([64, 784])  mu  torch.Size([64, 20])\n",
      "data  torch.Size([64, 1, 28, 28])  recon_batch  torch.Size([64, 784])  mu  torch.Size([64, 20])\n",
      "data  torch.Size([64, 1, 28, 28])  recon_batch  torch.Size([64, 784])  mu  torch.Size([64, 20])\n",
      "data  torch.Size([64, 1, 28, 28])  recon_batch  torch.Size([64, 784])  mu  torch.Size([64, 20])\n",
      "data  torch.Size([64, 1, 28, 28])  recon_batch  torch.Size([64, 784])  mu  torch.Size([64, 20])\n",
      "data  torch.Size([64, 1, 28, 28])  recon_batch  torch.Size([64, 784])  mu  torch.Size([64, 20])\n",
      "data  torch.Size([64, 1, 28, 28])  recon_batch  torch.Size([64, 784])  mu  torch.Size([64, 20])\n",
      "data  torch.Size([64, 1, 28, 28])  recon_batch  torch.Size([64, 784])  mu  torch.Size([64, 20])\n",
      "data  torch.Size([64, 1, 28, 28])  recon_batch  torch.Size([64, 784])  mu  torch.Size([64, 20])\n",
      "data  torch.Size([64, 1, 28, 28])  recon_batch  torch.Size([64, 784])  mu  torch.Size([64, 20])\n",
      "data  torch.Size([64, 1, 28, 28])  recon_batch  torch.Size([64, 784])  mu  torch.Size([64, 20])\n",
      "data  torch.Size([64, 1, 28, 28])  recon_batch  torch.Size([64, 784])  mu  torch.Size([64, 20])\n",
      "data  torch.Size([64, 1, 28, 28])  recon_batch  torch.Size([64, 784])  mu  torch.Size([64, 20])\n",
      "data  torch.Size([64, 1, 28, 28])  recon_batch  torch.Size([64, 784])  mu  torch.Size([64, 20])\n",
      "Train Epoch: 1 [6400/60000 (11%)]\tLoss: 187.564636\n",
      "data  torch.Size([64, 1, 28, 28])  recon_batch  torch.Size([64, 784])  mu  torch.Size([64, 20])\n",
      "data  torch.Size([64, 1, 28, 28])  recon_batch  torch.Size([64, 784])  mu  torch.Size([64, 20])\n",
      "data  torch.Size([64, 1, 28, 28])  recon_batch  torch.Size([64, 784])  mu  torch.Size([64, 20])\n",
      "data  torch.Size([64, 1, 28, 28])  recon_batch  torch.Size([64, 784])  mu  torch.Size([64, 20])\n",
      "data  torch.Size([64, 1, 28, 28])  recon_batch  torch.Size([64, 784])  mu  torch.Size([64, 20])\n",
      "data  torch.Size([64, 1, 28, 28])  recon_batch  torch.Size([64, 784])  mu  torch.Size([64, 20])\n",
      "data  torch.Size([64, 1, 28, 28])  recon_batch  torch.Size([64, 784])  mu  torch.Size([64, 20])\n",
      "data  torch.Size([64, 1, 28, 28])  recon_batch  torch.Size([64, 784])  mu  torch.Size([64, 20])\n",
      "data  torch.Size([64, 1, 28, 28])  recon_batch  torch.Size([64, 784])  mu  torch.Size([64, 20])\n",
      "data  torch.Size([64, 1, 28, 28])  recon_batch  torch.Size([64, 784])  mu  torch.Size([64, 20])\n",
      "data  torch.Size([64, 1, 28, 28])  recon_batch  torch.Size([64, 784])  mu  torch.Size([64, 20])\n",
      "data  torch.Size([64, 1, 28, 28])  recon_batch  torch.Size([64, 784])  mu  torch.Size([64, 20])\n",
      "data  torch.Size([64, 1, 28, 28])  recon_batch  torch.Size([64, 784])  mu  torch.Size([64, 20])\n",
      "data  torch.Size([64, 1, 28, 28])  recon_batch  torch.Size([64, 784])  mu  torch.Size([64, 20])\n",
      "data  torch.Size([64, 1, 28, 28])  recon_batch  torch.Size([64, 784])  mu  torch.Size([64, 20])\n",
      "data  torch.Size([64, 1, 28, 28])  recon_batch  torch.Size([64, 784])  mu  torch.Size([64, 20])\n",
      "data  torch.Size([64, 1, 28, 28])  recon_batch  torch.Size([64, 784])  mu  torch.Size([64, 20])\n",
      "data  torch.Size([64, 1, 28, 28])  recon_batch  torch.Size([64, 784])  mu  torch.Size([64, 20])\n",
      "data  torch.Size([64, 1, 28, 28])  recon_batch  torch.Size([64, 784])  mu  torch.Size([64, 20])\n",
      "data  torch.Size([64, 1, 28, 28])  recon_batch  torch.Size([64, 784])  mu  torch.Size([64, 20])\n",
      "data  torch.Size([64, 1, 28, 28])  recon_batch  torch.Size([64, 784])  mu  torch.Size([64, 20])\n",
      "data  torch.Size([64, 1, 28, 28])  recon_batch  torch.Size([64, 784])  mu  torch.Size([64, 20])\n",
      "data  torch.Size([64, 1, 28, 28])  recon_batch  torch.Size([64, 784])  mu  torch.Size([64, 20])\n",
      "data  torch.Size([64, 1, 28, 28])  recon_batch  torch.Size([64, 784])  mu  torch.Size([64, 20])\n",
      "data  torch.Size([64, 1, 28, 28])  recon_batch  torch.Size([64, 784])  mu  torch.Size([64, 20])\n",
      "data  torch.Size([64, 1, 28, 28])  recon_batch  torch.Size([64, 784])  mu  torch.Size([64, 20])\n",
      "data  torch.Size([64, 1, 28, 28])  recon_batch  torch.Size([64, 784])  mu  torch.Size([64, 20])\n",
      "data  torch.Size([64, 1, 28, 28])  recon_batch  torch.Size([64, 784])  mu  torch.Size([64, 20])\n",
      "data  torch.Size([64, 1, 28, 28])  recon_batch  torch.Size([64, 784])  mu  torch.Size([64, 20])\n",
      "data  torch.Size([64, 1, 28, 28])  recon_batch  torch.Size([64, 784])  mu  torch.Size([64, 20])\n",
      "data  torch.Size([64, 1, 28, 28])  recon_batch  torch.Size([64, 784])  mu  torch.Size([64, 20])\n",
      "data  torch.Size([64, 1, 28, 28])  recon_batch  torch.Size([64, 784])  mu  torch.Size([64, 20])\n",
      "data  torch.Size([64, 1, 28, 28])  recon_batch  torch.Size([64, 784])  mu  torch.Size([64, 20])\n",
      "data  torch.Size([64, 1, 28, 28])  recon_batch  torch.Size([64, 784])  mu  torch.Size([64, 20])\n",
      "data  torch.Size([64, 1, 28, 28])  recon_batch  torch.Size([64, 784])  mu  torch.Size([64, 20])\n",
      "data  torch.Size([64, 1, 28, 28])  recon_batch  torch.Size([64, 784])  mu  torch.Size([64, 20])\n",
      "data  torch.Size([64, 1, 28, 28])  recon_batch  torch.Size([64, 784])  mu  torch.Size([64, 20])\n",
      "data  torch.Size([64, 1, 28, 28])  recon_batch  torch.Size([64, 784])  mu  torch.Size([64, 20])\n",
      "data  torch.Size([64, 1, 28, 28])  recon_batch  torch.Size([64, 784])  mu  torch.Size([64, 20])\n",
      "data  torch.Size([64, 1, 28, 28])  recon_batch  torch.Size([64, 784])  mu  torch.Size([64, 20])\n",
      "data  torch.Size([64, 1, 28, 28])  recon_batch  torch.Size([64, 784])  mu  torch.Size([64, 20])\n",
      "data  torch.Size([64, 1, 28, 28])  recon_batch  torch.Size([64, 784])  mu  torch.Size([64, 20])\n",
      "data  torch.Size([64, 1, 28, 28])  recon_batch  torch.Size([64, 784])  mu  torch.Size([64, 20])\n",
      "data  torch.Size([64, 1, 28, 28])  recon_batch  torch.Size([64, 784])  mu  torch.Size([64, 20])\n",
      "data  torch.Size([64, 1, 28, 28])  recon_batch  torch.Size([64, 784])  mu  torch.Size([64, 20])\n",
      "data  torch.Size([64, 1, 28, 28])  recon_batch  torch.Size([64, 784])  mu  torch.Size([64, 20])\n",
      "data  torch.Size([64, 1, 28, 28])  recon_batch  torch.Size([64, 784])  mu  torch.Size([64, 20])\n",
      "data  torch.Size([64, 1, 28, 28])  recon_batch  torch.Size([64, 784])  mu  torch.Size([64, 20])\n",
      "data  torch.Size([64, 1, 28, 28])  recon_batch  torch.Size([64, 784])  mu  torch.Size([64, 20])\n",
      "data  torch.Size([64, 1, 28, 28])  recon_batch  torch.Size([64, 784])  mu  torch.Size([64, 20])\n",
      "data  torch.Size([64, 1, 28, 28])  recon_batch  torch.Size([64, 784])  mu  torch.Size([64, 20])\n",
      "data  torch.Size([64, 1, 28, 28])  recon_batch  torch.Size([64, 784])  mu  torch.Size([64, 20])\n",
      "data  torch.Size([64, 1, 28, 28])  recon_batch  torch.Size([64, 784])  mu  torch.Size([64, 20])\n",
      "data  torch.Size([64, 1, 28, 28])  recon_batch  torch.Size([64, 784])  mu  torch.Size([64, 20])\n",
      "data  torch.Size([64, 1, 28, 28])  recon_batch  torch.Size([64, 784])  mu  torch.Size([64, 20])\n",
      "data  torch.Size([64, 1, 28, 28])  recon_batch  torch.Size([64, 784])  mu  torch.Size([64, 20])\n",
      "data  torch.Size([64, 1, 28, 28])  recon_batch  torch.Size([64, 784])  mu  torch.Size([64, 20])\n",
      "data  torch.Size([64, 1, 28, 28])  recon_batch  torch.Size([64, 784])  mu  torch.Size([64, 20])\n",
      "data  torch.Size([64, 1, 28, 28])  recon_batch  torch.Size([64, 784])  mu  torch.Size([64, 20])\n",
      "data  torch.Size([64, 1, 28, 28])  recon_batch  torch.Size([64, 784])  mu  torch.Size([64, 20])\n",
      "data  torch.Size([64, 1, 28, 28])  recon_batch  torch.Size([64, 784])  mu  torch.Size([64, 20])\n",
      "data  torch.Size([64, 1, 28, 28])  recon_batch  torch.Size([64, 784])  mu  torch.Size([64, 20])\n",
      "data  torch.Size([64, 1, 28, 28])  recon_batch  torch.Size([64, 784])  mu  torch.Size([64, 20])\n",
      "data  torch.Size([64, 1, 28, 28])  recon_batch  torch.Size([64, 784])  mu  torch.Size([64, 20])\n",
      "data  torch.Size([64, 1, 28, 28])  recon_batch  torch.Size([64, 784])  mu  torch.Size([64, 20])\n",
      "data  torch.Size([64, 1, 28, 28])  recon_batch  torch.Size([64, 784])  mu  torch.Size([64, 20])\n",
      "data  torch.Size([64, 1, 28, 28])  recon_batch  torch.Size([64, 784])  mu  torch.Size([64, 20])\n",
      "data  torch.Size([64, 1, 28, 28])  recon_batch  torch.Size([64, 784])  mu  torch.Size([64, 20])\n",
      "data  torch.Size([64, 1, 28, 28])  recon_batch  torch.Size([64, 784])  mu  torch.Size([64, 20])\n",
      "data  torch.Size([64, 1, 28, 28])  recon_batch  torch.Size([64, 784])  mu  torch.Size([64, 20])\n"
     ]
    },
    {
     "name": "stdout",
     "output_type": "stream",
     "text": [
      "data  torch.Size([64, 1, 28, 28])  recon_batch  torch.Size([64, 784])  mu  torch.Size([64, 20])\n",
      "data  torch.Size([64, 1, 28, 28])  recon_batch  torch.Size([64, 784])  mu  torch.Size([64, 20])\n",
      "data  torch.Size([64, 1, 28, 28])  recon_batch  torch.Size([64, 784])  mu  torch.Size([64, 20])\n",
      "data  torch.Size([64, 1, 28, 28])  recon_batch  torch.Size([64, 784])  mu  torch.Size([64, 20])\n",
      "data  torch.Size([64, 1, 28, 28])  recon_batch  torch.Size([64, 784])  mu  torch.Size([64, 20])\n",
      "data  torch.Size([64, 1, 28, 28])  recon_batch  torch.Size([64, 784])  mu  torch.Size([64, 20])\n",
      "data  torch.Size([64, 1, 28, 28])  recon_batch  torch.Size([64, 784])  mu  torch.Size([64, 20])\n",
      "data  torch.Size([64, 1, 28, 28])  recon_batch  torch.Size([64, 784])  mu  torch.Size([64, 20])\n",
      "data  torch.Size([64, 1, 28, 28])  recon_batch  torch.Size([64, 784])  mu  torch.Size([64, 20])\n",
      "data  torch.Size([64, 1, 28, 28])  recon_batch  torch.Size([64, 784])  mu  torch.Size([64, 20])\n",
      "data  torch.Size([64, 1, 28, 28])  recon_batch  torch.Size([64, 784])  mu  torch.Size([64, 20])\n",
      "data  torch.Size([64, 1, 28, 28])  recon_batch  torch.Size([64, 784])  mu  torch.Size([64, 20])\n",
      "data  torch.Size([64, 1, 28, 28])  recon_batch  torch.Size([64, 784])  mu  torch.Size([64, 20])\n",
      "data  torch.Size([64, 1, 28, 28])  recon_batch  torch.Size([64, 784])  mu  torch.Size([64, 20])\n",
      "data  torch.Size([64, 1, 28, 28])  recon_batch  torch.Size([64, 784])  mu  torch.Size([64, 20])\n",
      "data  torch.Size([64, 1, 28, 28])  recon_batch  torch.Size([64, 784])  mu  torch.Size([64, 20])\n",
      "data  torch.Size([64, 1, 28, 28])  recon_batch  torch.Size([64, 784])  mu  torch.Size([64, 20])\n"
     ]
    },
    {
     "ename": "KeyboardInterrupt",
     "evalue": "",
     "output_type": "error",
     "traceback": [
      "\u001b[0;31m---------------------------------------------------------------------------\u001b[0m",
      "\u001b[0;31mKeyboardInterrupt\u001b[0m                         Traceback (most recent call last)",
      "\u001b[0;32m<ipython-input-25-601b0aa70f1b>\u001b[0m in \u001b[0;36m<module>\u001b[0;34m()\u001b[0m\n\u001b[1;32m     17\u001b[0m \u001b[0;31m# Train\u001b[0m\u001b[0;34m\u001b[0m\u001b[0;34m\u001b[0m\u001b[0;34m\u001b[0m\u001b[0m\n\u001b[1;32m     18\u001b[0m \u001b[0;32mfor\u001b[0m \u001b[0mepoch\u001b[0m \u001b[0;32min\u001b[0m \u001b[0mrange\u001b[0m\u001b[0;34m(\u001b[0m\u001b[0;36m1\u001b[0m\u001b[0;34m,\u001b[0m \u001b[0mepochs\u001b[0m \u001b[0;34m+\u001b[0m \u001b[0;36m1\u001b[0m\u001b[0;34m)\u001b[0m\u001b[0;34m:\u001b[0m\u001b[0;34m\u001b[0m\u001b[0;34m\u001b[0m\u001b[0m\n\u001b[0;32m---> 19\u001b[0;31m     \u001b[0mtrain\u001b[0m\u001b[0;34m(\u001b[0m\u001b[0mepoch\u001b[0m\u001b[0;34m,\u001b[0m \u001b[0mtrain_loader\u001b[0m\u001b[0;34m,\u001b[0m \u001b[0mVAE_MNIST\u001b[0m\u001b[0;34m,\u001b[0m \u001b[0moptimizer\u001b[0m\u001b[0;34m)\u001b[0m\u001b[0;34m\u001b[0m\u001b[0;34m\u001b[0m\u001b[0m\n\u001b[0m",
      "\u001b[0;32m<ipython-input-22-e8f128878375>\u001b[0m in \u001b[0;36mtrain\u001b[0;34m(epoch, train_loader, model, optimizer)\u001b[0m\n\u001b[1;32m     10\u001b[0m         \u001b[0mprint\u001b[0m\u001b[0;34m(\u001b[0m\u001b[0;34m'data '\u001b[0m\u001b[0;34m,\u001b[0m \u001b[0mdata\u001b[0m\u001b[0;34m.\u001b[0m\u001b[0msize\u001b[0m\u001b[0;34m(\u001b[0m\u001b[0;34m)\u001b[0m\u001b[0;34m,\u001b[0m \u001b[0;34m' recon_batch '\u001b[0m\u001b[0;34m,\u001b[0m \u001b[0mrecon_batch\u001b[0m\u001b[0;34m.\u001b[0m\u001b[0msize\u001b[0m\u001b[0;34m(\u001b[0m\u001b[0;34m)\u001b[0m\u001b[0;34m,\u001b[0m \u001b[0;34m' mu '\u001b[0m\u001b[0;34m,\u001b[0m \u001b[0mmu\u001b[0m\u001b[0;34m.\u001b[0m\u001b[0msize\u001b[0m\u001b[0;34m(\u001b[0m\u001b[0;34m)\u001b[0m\u001b[0;34m)\u001b[0m\u001b[0;34m\u001b[0m\u001b[0;34m\u001b[0m\u001b[0m\n\u001b[1;32m     11\u001b[0m         \u001b[0mloss\u001b[0m \u001b[0;34m=\u001b[0m \u001b[0mloss_function\u001b[0m\u001b[0;34m(\u001b[0m\u001b[0mrecon_batch\u001b[0m\u001b[0;34m,\u001b[0m \u001b[0mdata\u001b[0m\u001b[0;34m.\u001b[0m\u001b[0mview\u001b[0m\u001b[0;34m(\u001b[0m\u001b[0;34m-\u001b[0m\u001b[0;36m1\u001b[0m\u001b[0;34m,\u001b[0m \u001b[0;36m784\u001b[0m\u001b[0;34m)\u001b[0m\u001b[0;34m,\u001b[0m \u001b[0mmu\u001b[0m\u001b[0;34m,\u001b[0m \u001b[0mlogvar\u001b[0m\u001b[0;34m)\u001b[0m\u001b[0;34m\u001b[0m\u001b[0;34m\u001b[0m\u001b[0m\n\u001b[0;32m---> 12\u001b[0;31m         \u001b[0mloss\u001b[0m\u001b[0;34m.\u001b[0m\u001b[0mbackward\u001b[0m\u001b[0;34m(\u001b[0m\u001b[0;34m)\u001b[0m\u001b[0;34m\u001b[0m\u001b[0;34m\u001b[0m\u001b[0m\n\u001b[0m\u001b[1;32m     13\u001b[0m         \u001b[0mtrain_loss\u001b[0m \u001b[0;34m+=\u001b[0m \u001b[0mloss\u001b[0m\u001b[0;34m.\u001b[0m\u001b[0mdata\u001b[0m\u001b[0;34m\u001b[0m\u001b[0;34m\u001b[0m\u001b[0m\n\u001b[1;32m     14\u001b[0m         \u001b[0moptimizer\u001b[0m\u001b[0;34m.\u001b[0m\u001b[0mstep\u001b[0m\u001b[0;34m(\u001b[0m\u001b[0;34m)\u001b[0m\u001b[0;34m\u001b[0m\u001b[0;34m\u001b[0m\u001b[0m\n",
      "\u001b[0;32m~/anaconda3/lib/python3.6/site-packages/torch/tensor.py\u001b[0m in \u001b[0;36mbackward\u001b[0;34m(self, gradient, retain_graph, create_graph)\u001b[0m\n\u001b[1;32m    193\u001b[0m                 \u001b[0mproducts\u001b[0m\u001b[0;34m.\u001b[0m \u001b[0mDefaults\u001b[0m \u001b[0mto\u001b[0m\u001b[0;31m \u001b[0m\u001b[0;31m`\u001b[0m\u001b[0;31m`\u001b[0m\u001b[0;32mFalse\u001b[0m\u001b[0;31m`\u001b[0m\u001b[0;31m`\u001b[0m\u001b[0;34m.\u001b[0m\u001b[0;34m\u001b[0m\u001b[0;34m\u001b[0m\u001b[0m\n\u001b[1;32m    194\u001b[0m         \"\"\"\n\u001b[0;32m--> 195\u001b[0;31m         \u001b[0mtorch\u001b[0m\u001b[0;34m.\u001b[0m\u001b[0mautograd\u001b[0m\u001b[0;34m.\u001b[0m\u001b[0mbackward\u001b[0m\u001b[0;34m(\u001b[0m\u001b[0mself\u001b[0m\u001b[0;34m,\u001b[0m \u001b[0mgradient\u001b[0m\u001b[0;34m,\u001b[0m \u001b[0mretain_graph\u001b[0m\u001b[0;34m,\u001b[0m \u001b[0mcreate_graph\u001b[0m\u001b[0;34m)\u001b[0m\u001b[0;34m\u001b[0m\u001b[0;34m\u001b[0m\u001b[0m\n\u001b[0m\u001b[1;32m    196\u001b[0m \u001b[0;34m\u001b[0m\u001b[0m\n\u001b[1;32m    197\u001b[0m     \u001b[0;32mdef\u001b[0m \u001b[0mregister_hook\u001b[0m\u001b[0;34m(\u001b[0m\u001b[0mself\u001b[0m\u001b[0;34m,\u001b[0m \u001b[0mhook\u001b[0m\u001b[0;34m)\u001b[0m\u001b[0;34m:\u001b[0m\u001b[0;34m\u001b[0m\u001b[0;34m\u001b[0m\u001b[0m\n",
      "\u001b[0;32m~/anaconda3/lib/python3.6/site-packages/torch/autograd/__init__.py\u001b[0m in \u001b[0;36mbackward\u001b[0;34m(tensors, grad_tensors, retain_graph, create_graph, grad_variables)\u001b[0m\n\u001b[1;32m     97\u001b[0m     Variable._execution_engine.run_backward(\n\u001b[1;32m     98\u001b[0m         \u001b[0mtensors\u001b[0m\u001b[0;34m,\u001b[0m \u001b[0mgrad_tensors\u001b[0m\u001b[0;34m,\u001b[0m \u001b[0mretain_graph\u001b[0m\u001b[0;34m,\u001b[0m \u001b[0mcreate_graph\u001b[0m\u001b[0;34m,\u001b[0m\u001b[0;34m\u001b[0m\u001b[0;34m\u001b[0m\u001b[0m\n\u001b[0;32m---> 99\u001b[0;31m         allow_unreachable=True)  # allow_unreachable flag\n\u001b[0m\u001b[1;32m    100\u001b[0m \u001b[0;34m\u001b[0m\u001b[0m\n\u001b[1;32m    101\u001b[0m \u001b[0;34m\u001b[0m\u001b[0m\n",
      "\u001b[0;31mKeyboardInterrupt\u001b[0m: "
     ]
    }
   ],
   "source": [
    "from torchvision import datasets, transforms\n",
    "from torch import nn, optim\n",
    "\n",
    "# Load data\n",
    "train_data = datasets.MNIST('../data', train=True, download=True,\n",
    "                   transform=transforms.ToTensor())\n",
    "\n",
    "train_loader = torch.utils.data.DataLoader(train_data,\n",
    "                                           batch_size=batch_size, shuffle=True, **{})\n",
    "\n",
    "# Init model\n",
    "VAE_MNIST = VAE(fc1_dims=fc1_dims, fc21_dims=fc21_dims, fc22_dims=fc22_dims, fc3_dims=fc3_dims, fc4_dims=fc4_dims)\n",
    "\n",
    "# Init optimizer\n",
    "optimizer = optim.Adam(VAE_MNIST.parameters(), lr=lr)\n",
    "\n",
    "# Train\n",
    "for epoch in range(1, epochs + 1):\n",
    "    train(epoch, train_loader, VAE_MNIST, optimizer)\n"
   ]
  },
  {
   "cell_type": "markdown",
   "metadata": {
    "deletable": false,
    "editable": false,
    "nbgrader": {
     "cell_type": "markdown",
     "checksum": "e2f8fcc9384e30cb154cf931f223898b",
     "grade": false,
     "grade_id": "cell-bd07c058c661b9c6",
     "locked": true,
     "schema_version": 3,
     "solution": false
    }
   },
   "source": [
    "Run the box below to check if the model you trained above is able to correctly reconstruct images."
   ]
  },
  {
   "cell_type": "code",
   "execution_count": 84,
   "metadata": {
    "deletable": false,
    "editable": false,
    "nbgrader": {
     "cell_type": "code",
     "checksum": "80d198e03b1287741d761a12e38dcf73",
     "grade": false,
     "grade_id": "cell-df03d717307a6863",
     "locked": true,
     "schema_version": 3,
     "solution": false
    }
   },
   "outputs": [
    {
     "data": {
      "image/png": "[encoded data removed]",
      "text/plain": [
       "<Figure size 432x288 with 1 Axes>"
      ]
     },
     "metadata": {},
     "output_type": "display_data"
    },
    {
     "data": {
      "image/png": "[encoded data removed]",
      "text/plain": [
       "<Figure size 432x288 with 1 Axes>"
      ]
     },
     "metadata": {},
     "output_type": "display_data"
    },
    {
     "data": {
      "image/png": "[encoded data removed]",
      "text/plain": [
       "<Figure size 432x288 with 1 Axes>"
      ]
     },
     "metadata": {},
     "output_type": "display_data"
    },
    {
     "data": {
      "image/png": "[encoded data removed]",
      "text/plain": [
       "<Figure size 432x288 with 1 Axes>"
      ]
     },
     "metadata": {},
     "output_type": "display_data"
    }
   ],
   "source": [
    "### Let's check if the reconstructions make sense\n",
    "# Set model to test mode\n",
    "VAE_MNIST.eval()\n",
    "    \n",
    "# Reconstructed\n",
    "train_data_plot = datasets.MNIST('../data', train=True, download=True,\n",
    "                   transform=transforms.ToTensor())\n",
    "\n",
    "train_loader_plot = torch.utils.data.DataLoader(train_data_plot,\n",
    "                                           batch_size=1, shuffle=False, **{})\n",
    "\n",
    "for batch_idx, (data, _) in enumerate(train_loader_plot):\n",
    "    x_hat, mu, logvar = VAE_MNIST(data)\n",
    "    plt.imshow(x_hat.view(1,28,28).squeeze().data.numpy(), cmap='gray')\n",
    "    plt.title('%i' % train_data.train_labels[batch_idx])\n",
    "    plt.show()\n",
    "    if batch_idx == 3:\n",
    "        break\n"
   ]
  },
  {
   "cell_type": "markdown",
   "metadata": {
    "deletable": false,
    "editable": false,
    "nbgrader": {
     "cell_type": "markdown",
     "checksum": "7f559122b150f5f1228d6b66b62f462c",
     "grade": false,
     "grade_id": "cell-76649d51fdf133dc",
     "locked": true,
     "schema_version": 3,
     "solution": false
    }
   },
   "source": [
    "### 2.8 Visualize latent space (20 points)\n",
    "Now, implement the auto-encoder now with a 2-dimensional latent space, and train again over the MNIST data. Make a visualization of the learned manifold by using a linearly spaced coordinate grid as input for the latent space, as seen in  https://arxiv.org/abs/1312.6114 Figure 4."
   ]
  },
  {
   "cell_type": "code",
   "execution_count": 87,
   "metadata": {
    "deletable": false,
    "nbgrader": {
     "cell_type": "code",
     "checksum": "c879ffdb0d355349d7144a33d16ca93a",
     "grade": true,
     "grade_id": "cell-4a0af6d08d055bee",
     "locked": false,
     "points": 20,
     "schema_version": 3,
     "solution": true
    }
   },
   "outputs": [
    {
     "name": "stdout",
     "output_type": "stream",
     "text": [
      "Train Epoch: 1 [0/60000 (0%)]\tLoss: 549.224670\n",
      "Train Epoch: 1 [6400/60000 (11%)]\tLoss: 196.131287\n",
      "Train Epoch: 1 [12800/60000 (21%)]\tLoss: 180.121567\n",
      "Train Epoch: 1 [19200/60000 (32%)]\tLoss: 180.922638\n",
      "Train Epoch: 1 [25600/60000 (43%)]\tLoss: 180.975937\n",
      "Train Epoch: 1 [32000/60000 (53%)]\tLoss: 161.276093\n",
      "Train Epoch: 1 [38400/60000 (64%)]\tLoss: 162.726761\n",
      "Train Epoch: 1 [44800/60000 (75%)]\tLoss: 169.991776\n",
      "Train Epoch: 1 [51200/60000 (85%)]\tLoss: 162.510208\n",
      "Train Epoch: 1 [57600/60000 (96%)]\tLoss: 159.134705\n",
      "====> Epoch: 1 Average loss: 179.0396\n",
      "Train Epoch: 2 [0/60000 (0%)]\tLoss: 158.276810\n",
      "Train Epoch: 2 [6400/60000 (11%)]\tLoss: 162.698273\n",
      "Train Epoch: 2 [12800/60000 (21%)]\tLoss: 162.712784\n",
      "Train Epoch: 2 [19200/60000 (32%)]\tLoss: 157.391968\n",
      "Train Epoch: 2 [25600/60000 (43%)]\tLoss: 160.440109\n",
      "Train Epoch: 2 [32000/60000 (53%)]\tLoss: 161.979919\n",
      "Train Epoch: 2 [38400/60000 (64%)]\tLoss: 164.567642\n",
      "Train Epoch: 2 [44800/60000 (75%)]\tLoss: 168.579239\n",
      "Train Epoch: 2 [51200/60000 (85%)]\tLoss: 159.888611\n",
      "Train Epoch: 2 [57600/60000 (96%)]\tLoss: 179.135178\n",
      "====> Epoch: 2 Average loss: 163.2856\n",
      "Train Epoch: 3 [0/60000 (0%)]\tLoss: 143.436783\n",
      "Train Epoch: 3 [6400/60000 (11%)]\tLoss: 151.830429\n",
      "Train Epoch: 3 [12800/60000 (21%)]\tLoss: 145.025574\n",
      "Train Epoch: 3 [19200/60000 (32%)]\tLoss: 161.093750\n",
      "Train Epoch: 3 [25600/60000 (43%)]\tLoss: 143.336823\n",
      "Train Epoch: 3 [32000/60000 (53%)]\tLoss: 161.064804\n",
      "Train Epoch: 3 [38400/60000 (64%)]\tLoss: 151.219070\n",
      "Train Epoch: 3 [44800/60000 (75%)]\tLoss: 166.503876\n",
      "Train Epoch: 3 [51200/60000 (85%)]\tLoss: 146.191147\n",
      "Train Epoch: 3 [57600/60000 (96%)]\tLoss: 167.746262\n",
      "====> Epoch: 3 Average loss: 159.7053\n",
      "Train Epoch: 4 [0/60000 (0%)]\tLoss: 154.304642\n",
      "Train Epoch: 4 [6400/60000 (11%)]\tLoss: 153.811646\n",
      "Train Epoch: 4 [12800/60000 (21%)]\tLoss: 151.611343\n",
      "Train Epoch: 4 [19200/60000 (32%)]\tLoss: 168.356354\n",
      "Train Epoch: 4 [25600/60000 (43%)]\tLoss: 163.124130\n",
      "Train Epoch: 4 [32000/60000 (53%)]\tLoss: 164.024948\n",
      "Train Epoch: 4 [38400/60000 (64%)]\tLoss: 164.147476\n",
      "Train Epoch: 4 [44800/60000 (75%)]\tLoss: 142.753784\n",
      "Train Epoch: 4 [51200/60000 (85%)]\tLoss: 154.854660\n",
      "Train Epoch: 4 [57600/60000 (96%)]\tLoss: 155.947021\n",
      "====> Epoch: 4 Average loss: 157.6095\n",
      "Train Epoch: 5 [0/60000 (0%)]\tLoss: 160.778305\n",
      "Train Epoch: 5 [6400/60000 (11%)]\tLoss: 153.703293\n",
      "Train Epoch: 5 [12800/60000 (21%)]\tLoss: 162.266174\n",
      "Train Epoch: 5 [19200/60000 (32%)]\tLoss: 155.200241\n",
      "Train Epoch: 5 [25600/60000 (43%)]\tLoss: 152.635757\n",
      "Train Epoch: 5 [32000/60000 (53%)]\tLoss: 157.199066\n",
      "Train Epoch: 5 [38400/60000 (64%)]\tLoss: 149.869232\n",
      "Train Epoch: 5 [44800/60000 (75%)]\tLoss: 161.875351\n",
      "Train Epoch: 5 [51200/60000 (85%)]\tLoss: 167.447845\n",
      "Train Epoch: 5 [57600/60000 (96%)]\tLoss: 167.616486\n",
      "====> Epoch: 5 Average loss: 156.1613\n",
      "Train Epoch: 6 [0/60000 (0%)]\tLoss: 151.478622\n",
      "Train Epoch: 6 [6400/60000 (11%)]\tLoss: 155.060501\n",
      "Train Epoch: 6 [12800/60000 (21%)]\tLoss: 154.940781\n",
      "Train Epoch: 6 [19200/60000 (32%)]\tLoss: 143.754623\n",
      "Train Epoch: 6 [25600/60000 (43%)]\tLoss: 154.153000\n",
      "Train Epoch: 6 [32000/60000 (53%)]\tLoss: 149.305817\n",
      "Train Epoch: 6 [38400/60000 (64%)]\tLoss: 147.790710\n",
      "Train Epoch: 6 [44800/60000 (75%)]\tLoss: 158.381897\n",
      "Train Epoch: 6 [51200/60000 (85%)]\tLoss: 152.335220\n",
      "Train Epoch: 6 [57600/60000 (96%)]\tLoss: 151.224808\n",
      "====> Epoch: 6 Average loss: 155.0393\n",
      "Train Epoch: 7 [0/60000 (0%)]\tLoss: 156.226044\n",
      "Train Epoch: 7 [6400/60000 (11%)]\tLoss: 151.995560\n",
      "Train Epoch: 7 [12800/60000 (21%)]\tLoss: 149.676620\n",
      "Train Epoch: 7 [19200/60000 (32%)]\tLoss: 171.697998\n",
      "Train Epoch: 7 [25600/60000 (43%)]\tLoss: 154.185791\n",
      "Train Epoch: 7 [32000/60000 (53%)]\tLoss: 149.445267\n",
      "Train Epoch: 7 [38400/60000 (64%)]\tLoss: 155.637970\n",
      "Train Epoch: 7 [44800/60000 (75%)]\tLoss: 167.528275\n",
      "Train Epoch: 7 [51200/60000 (85%)]\tLoss: 159.636826\n",
      "Train Epoch: 7 [57600/60000 (96%)]\tLoss: 150.520874\n",
      "====> Epoch: 7 Average loss: 154.1402\n"
     ]
    }
   ],
   "source": [
    "# YOUR CODE HERE\n",
    "#raise NotImplementedError()\n",
    "\n",
    "\n",
    "fc1_dims = (784, 500)\n",
    "fc21_dims = (500, 2)\n",
    "fc22_dims = (500, 2)\n",
    "fc3_dims = (2, 500)\n",
    "fc4_dims = (500, 784)\n",
    "lr = 1e-3\n",
    "batch_size = 64\n",
    "epochs = 7\n",
    "\n",
    "VAE_MNIST = VAE(fc1_dims=fc1_dims, fc21_dims=fc21_dims, fc22_dims=fc22_dims, fc3_dims=fc3_dims, fc4_dims=fc4_dims)\n",
    "optimizer = optim.Adam(VAE_MNIST.parameters(), lr=lr)\n",
    "\n",
    "# Train\n",
    "for epoch in range(1, epochs + 1):\n",
    "    train(epoch, train_loader, VAE_MNIST, optimizer)\n"
   ]
  },
  {
   "cell_type": "code",
   "execution_count": 90,
   "metadata": {},
   "outputs": [],
   "source": [
    "def plot_manifold():\n",
    "    \n",
    "    VAE_MNIST.eval()\n",
    "\n",
    "    import numpy as np\n",
    "    from scipy.stats import norm\n",
    "    from torchvision.utils import make_grid\n",
    "\n",
    "    p = np.linspace(0.01, 0.99, 20)\n",
    "    z = norm.ppf(p)\n",
    "    z_code = []\n",
    "    for z1 in z:\n",
    "        for z2 in z:\n",
    "            z_code.append([z1, z2])\n",
    "    z_code = torch.FloatTensor(z_code)\n",
    "    \n",
    "    x = VAE_MNIST.decode(z_code).reshape(400, 1, 28, 28)\n",
    "    \n",
    "    im_means  = x\n",
    "\n",
    "    plt.figure()\n",
    "    grid_img = make_grid(im_means, nrow=20).detach()\n",
    "    plt.title('Learned MNIST manifold')\n",
    "    plt.imshow(grid_img.permute(1, 2, 0), )\n",
    "\n",
    "    plt.tick_params(\n",
    "    axis='both',\n",
    "    which='both',\n",
    "    bottom=False,\n",
    "    top=False,\n",
    "    labelbottom=False)\n",
    "\n",
    "    title = 'vae_dim2.png'\n",
    "    plt.savefig(title, dpi=100)"
   ]
  },
  {
   "cell_type": "code",
   "execution_count": 91,
   "metadata": {},
   "outputs": [
    {
     "data": {
      "image/png": "[encoded data removed]",
      "text/plain": [
       "<Figure size 432x288 with 1 Axes>"
      ]
     },
     "metadata": {},
     "output_type": "display_data"
    }
   ],
   "source": [
    "plot_manifold()"
   ]
  },
  {
   "cell_type": "markdown",
   "metadata": {
    "deletable": false,
    "editable": false,
    "nbgrader": {
     "cell_type": "markdown",
     "checksum": "b9eb1684d646eea84a25638d184bfbda",
     "grade": false,
     "grade_id": "cell-dc5e1247a1e21009",
     "locked": true,
     "schema_version": 3,
     "solution": false
    }
   },
   "source": [
    "### 2.8 Amortized inference (10 points)\n",
    "What is amortized inference? Where in the code of Part 2 is it used? What is the benefit of using it?\n"
   ]
  },
  {
   "cell_type": "markdown",
   "metadata": {
    "deletable": false,
    "nbgrader": {
     "cell_type": "markdown",
     "checksum": "364ed922da59070f319d0bdfb0e41d92",
     "grade": true,
     "grade_id": "cell-6f7808a9b0098dbf",
     "locked": false,
     "points": 10,
     "schema_version": 3,
     "solution": true
    }
   },
   "source": [
    "YOUR ANSWER HERE\n",
    "\n",
    "\n",
    "Amortized inference refers to the sharing parameters of the approximate posterior accross datapoints. In comparison with mean-field approach, when parameters are not shared, amortized inference provides clear inference procedure for new datapoints, and makes learning easier, as we need to optimize for less number of parameters. We use amortized inference, when model decoder as a neural network, which implies that parameters of the posterior are shared."
   ]
  },
  {
   "cell_type": "code",
   "execution_count": null,
   "metadata": {},
   "outputs": [],
   "source": []
  }
 ],
 "metadata": {
  "kernelspec": {
   "display_name": "Python 3",
   "language": "python",
   "name": "python3"
  },
  "language_info": {
   "codemirror_mode": {
    "name": "ipython",
    "version": 3
   },
   "file_extension": ".py",
   "mimetype": "text/x-python",
   "name": "python",
   "nbconvert_exporter": "python",
   "pygments_lexer": "ipython3",
   "version": "3.6.8"
  }
 },
 "nbformat": 4,
 "nbformat_minor": 2
}
